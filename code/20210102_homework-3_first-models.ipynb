{
 "cells": [
  {
   "cell_type": "markdown",
   "metadata": {
    "pycharm": {
     "name": "#%% md\n"
    }
   },
   "source": [
    "## **1. Preparing the Environment**"
   ]
  },
  {
   "cell_type": "code",
   "execution_count": 1,
   "metadata": {},
   "outputs": [
    {
     "name": "stderr",
     "output_type": "stream",
     "text": [
      "/Applications/Conda/anaconda3/envs/mlim/lib/python3.8/site-packages/tqdm/std.py:699: FutureWarning: The Panel class is removed from pandas. Accessing it from the top-level namespace will also be removed in the next version\n",
      "  from pandas import Panel\n"
     ]
    }
   ],
   "source": [
    "import pandas as pd\n",
    "\n",
    "import numpy as np\n",
    "import pickle\n",
    "from tqdm import tqdm\n",
    "import category_encoders as ce\n",
    "import statsmodels.api as sm\n",
    "import sklearn.ensemble\n",
    "import lightgbm\n",
    "import sklearn.metrics\n",
    "import time\n",
    "import seaborn as sns\n",
    "import matplotlib.pyplot as plt\n",
    "\n",
    "\n",
    "tqdm.pandas()"
   ]
  },
  {
   "cell_type": "markdown",
   "metadata": {
    "pycharm": {
     "name": "#%% md\n"
    }
   },
   "source": [
    "\n",
    "\n",
    "\n",
    "\n",
    "\n",
    "## **2. Data Preparation and Feature Creation**"
   ]
  },
  {
   "cell_type": "markdown",
   "metadata": {
    "pycharm": {
     "name": "#%% md\n"
    }
   },
   "source": [
    "### **2.1 Converging Train and Test Data Structure**"
   ]
  },
  {
   "cell_type": "code",
   "execution_count": null,
   "metadata": {
    "collapsed": false,
    "jupyter": {
     "outputs_hidden": false
    },
    "pycharm": {
     "name": "#%%\n"
    }
   },
   "outputs": [],
   "source": [
    "# loading the data\n",
    "baskets = pd.read_parquet('baskets.parquet')\n",
    "coupons = pd.read_parquet('coupons.parquet')\n",
    "\n",
    "# merging the data\n",
    "df = baskets.copy()\n",
    "# detecting similar columns and merging on similar columns\n",
    "similar = [x for x in coupons.columns if x in baskets.columns] # i.e. ['shopper', 'product', 'week'] \n",
    "df = df.merge(coupons, how='left', left_on=similar, right_on=similar)\n",
    "df.to_parquet('df.parquet')"
   ]
  },
  {
   "cell_type": "code",
   "execution_count": 2,
   "metadata": {
    "collapsed": false,
    "jupyter": {
     "outputs_hidden": false
    },
    "pycharm": {
     "name": "#%%\n"
    }
   },
   "outputs": [],
   "source": [
    "def get_tr(df, week):\n",
    "    import itertools\n",
    "    week = [week] if type(week) != list else week\n",
    "\n",
    "    product = list(range(250))\n",
    "    shopper = list(range(2000))\n",
    "    tr = pd.DataFrame(itertools.product(shopper, week, product))\n",
    "    tr.rename(columns={0:'shopper', 1:'week', 2:'product'}, inplace=True)\n",
    "    tr = tr.merge(df, how='left', left_on=list(tr.columns), right_on=list(tr.columns))\n",
    "    tr['purchased'] = tr['price'].notna().astype(int) # target\n",
    "    tr['coupon'] = tr['discount'].notna().astype(int)\n",
    "\n",
    "    return tr"
   ]
  },
  {
   "cell_type": "code",
   "execution_count": null,
   "metadata": {
    "collapsed": false,
    "jupyter": {
     "outputs_hidden": false
    },
    "pycharm": {
     "name": "#%%\n"
    }
   },
   "outputs": [],
   "source": [
    "df_full = pd.read_parquet('df.parquet')\n",
    "\n",
    "# reduce to relevant shoppers and create new structure for the full data\n",
    "df = df_full.loc[df_full['shopper'] < 2000]\n",
    "tr = get_tr(df, list(range(90)))\n",
    "tr.to_parquet('tr.parquet')"
   ]
  },
  {
   "cell_type": "code",
   "execution_count": 3,
   "metadata": {},
   "outputs": [
    {
     "data": {
      "text/html": [
       "<div>\n",
       "<style scoped>\n",
       "    .dataframe tbody tr th:only-of-type {\n",
       "        vertical-align: middle;\n",
       "    }\n",
       "\n",
       "    .dataframe tbody tr th {\n",
       "        vertical-align: top;\n",
       "    }\n",
       "\n",
       "    .dataframe thead th {\n",
       "        text-align: right;\n",
       "    }\n",
       "</style>\n",
       "<table border=\"1\" class=\"dataframe\">\n",
       "  <thead>\n",
       "    <tr style=\"text-align: right;\">\n",
       "      <th></th>\n",
       "      <th>shopper</th>\n",
       "      <th>week</th>\n",
       "      <th>product</th>\n",
       "      <th>price</th>\n",
       "      <th>discount</th>\n",
       "      <th>purchased</th>\n",
       "      <th>coupon</th>\n",
       "    </tr>\n",
       "  </thead>\n",
       "  <tbody>\n",
       "    <tr>\n",
       "      <th>0</th>\n",
       "      <td>0</td>\n",
       "      <td>0</td>\n",
       "      <td>0</td>\n",
       "      <td>NaN</td>\n",
       "      <td>NaN</td>\n",
       "      <td>0</td>\n",
       "      <td>0</td>\n",
       "    </tr>\n",
       "    <tr>\n",
       "      <th>1</th>\n",
       "      <td>0</td>\n",
       "      <td>0</td>\n",
       "      <td>1</td>\n",
       "      <td>NaN</td>\n",
       "      <td>NaN</td>\n",
       "      <td>0</td>\n",
       "      <td>0</td>\n",
       "    </tr>\n",
       "    <tr>\n",
       "      <th>2</th>\n",
       "      <td>0</td>\n",
       "      <td>0</td>\n",
       "      <td>2</td>\n",
       "      <td>NaN</td>\n",
       "      <td>NaN</td>\n",
       "      <td>0</td>\n",
       "      <td>0</td>\n",
       "    </tr>\n",
       "    <tr>\n",
       "      <th>3</th>\n",
       "      <td>0</td>\n",
       "      <td>0</td>\n",
       "      <td>3</td>\n",
       "      <td>NaN</td>\n",
       "      <td>NaN</td>\n",
       "      <td>0</td>\n",
       "      <td>0</td>\n",
       "    </tr>\n",
       "    <tr>\n",
       "      <th>4</th>\n",
       "      <td>0</td>\n",
       "      <td>0</td>\n",
       "      <td>4</td>\n",
       "      <td>NaN</td>\n",
       "      <td>NaN</td>\n",
       "      <td>0</td>\n",
       "      <td>0</td>\n",
       "    </tr>\n",
       "    <tr>\n",
       "      <th>...</th>\n",
       "      <td>...</td>\n",
       "      <td>...</td>\n",
       "      <td>...</td>\n",
       "      <td>...</td>\n",
       "      <td>...</td>\n",
       "      <td>...</td>\n",
       "      <td>...</td>\n",
       "    </tr>\n",
       "    <tr>\n",
       "      <th>44999995</th>\n",
       "      <td>1999</td>\n",
       "      <td>89</td>\n",
       "      <td>245</td>\n",
       "      <td>549.0</td>\n",
       "      <td>NaN</td>\n",
       "      <td>1</td>\n",
       "      <td>0</td>\n",
       "    </tr>\n",
       "    <tr>\n",
       "      <th>44999996</th>\n",
       "      <td>1999</td>\n",
       "      <td>89</td>\n",
       "      <td>246</td>\n",
       "      <td>NaN</td>\n",
       "      <td>NaN</td>\n",
       "      <td>0</td>\n",
       "      <td>0</td>\n",
       "    </tr>\n",
       "    <tr>\n",
       "      <th>44999997</th>\n",
       "      <td>1999</td>\n",
       "      <td>89</td>\n",
       "      <td>247</td>\n",
       "      <td>NaN</td>\n",
       "      <td>NaN</td>\n",
       "      <td>0</td>\n",
       "      <td>0</td>\n",
       "    </tr>\n",
       "    <tr>\n",
       "      <th>44999998</th>\n",
       "      <td>1999</td>\n",
       "      <td>89</td>\n",
       "      <td>248</td>\n",
       "      <td>NaN</td>\n",
       "      <td>NaN</td>\n",
       "      <td>0</td>\n",
       "      <td>0</td>\n",
       "    </tr>\n",
       "    <tr>\n",
       "      <th>44999999</th>\n",
       "      <td>1999</td>\n",
       "      <td>89</td>\n",
       "      <td>249</td>\n",
       "      <td>NaN</td>\n",
       "      <td>NaN</td>\n",
       "      <td>0</td>\n",
       "      <td>0</td>\n",
       "    </tr>\n",
       "  </tbody>\n",
       "</table>\n",
       "<p>45000000 rows × 7 columns</p>\n",
       "</div>"
      ],
      "text/plain": [
       "          shopper  week  product  price  discount  purchased  coupon\n",
       "0               0     0        0    NaN       NaN          0       0\n",
       "1               0     0        1    NaN       NaN          0       0\n",
       "2               0     0        2    NaN       NaN          0       0\n",
       "3               0     0        3    NaN       NaN          0       0\n",
       "4               0     0        4    NaN       NaN          0       0\n",
       "...           ...   ...      ...    ...       ...        ...     ...\n",
       "44999995     1999    89      245  549.0       NaN          1       0\n",
       "44999996     1999    89      246    NaN       NaN          0       0\n",
       "44999997     1999    89      247    NaN       NaN          0       0\n",
       "44999998     1999    89      248    NaN       NaN          0       0\n",
       "44999999     1999    89      249    NaN       NaN          0       0\n",
       "\n",
       "[45000000 rows x 7 columns]"
      ]
     },
     "execution_count": 3,
     "metadata": {},
     "output_type": "execute_result"
    }
   ],
   "source": [
    "tr_full = pd.read_parquet('tr.parquet')\n",
    "tr_full"
   ]
  },
  {
   "cell_type": "markdown",
   "metadata": {
    "pycharm": {
     "name": "#%% md\n"
    }
   },
   "source": [
    "\n",
    "\n",
    "\n",
    "\n",
    "\n",
    "### **2.2 Cleaning Prices: Product Price Map**"
   ]
  },
  {
   "cell_type": "code",
   "execution_count": 4,
   "metadata": {
    "collapsed": false,
    "jupyter": {
     "outputs_hidden": false
    },
    "pycharm": {
     "name": "#%%\n"
    }
   },
   "outputs": [
    {
     "data": {
      "text/html": [
       "<div>\n",
       "<style scoped>\n",
       "    .dataframe tbody tr th:only-of-type {\n",
       "        vertical-align: middle;\n",
       "    }\n",
       "\n",
       "    .dataframe tbody tr th {\n",
       "        vertical-align: top;\n",
       "    }\n",
       "\n",
       "    .dataframe thead th {\n",
       "        text-align: right;\n",
       "    }\n",
       "</style>\n",
       "<table border=\"1\" class=\"dataframe\">\n",
       "  <thead>\n",
       "    <tr style=\"text-align: right;\">\n",
       "      <th></th>\n",
       "      <th>price</th>\n",
       "      <th>price_w_discount</th>\n",
       "    </tr>\n",
       "  </thead>\n",
       "  <tbody>\n",
       "    <tr>\n",
       "      <th>count</th>\n",
       "      <td>1378720.00</td>\n",
       "      <td>1378720.00</td>\n",
       "    </tr>\n",
       "    <tr>\n",
       "      <th>mean</th>\n",
       "      <td>590.73</td>\n",
       "      <td>584.34</td>\n",
       "    </tr>\n",
       "    <tr>\n",
       "      <th>std</th>\n",
       "      <td>92.70</td>\n",
       "      <td>97.43</td>\n",
       "    </tr>\n",
       "    <tr>\n",
       "      <th>min</th>\n",
       "      <td>389.23</td>\n",
       "      <td>234.00</td>\n",
       "    </tr>\n",
       "    <tr>\n",
       "      <th>25%</th>\n",
       "      <td>510.00</td>\n",
       "      <td>506.00</td>\n",
       "    </tr>\n",
       "    <tr>\n",
       "      <th>50%</th>\n",
       "      <td>582.00</td>\n",
       "      <td>579.00</td>\n",
       "    </tr>\n",
       "    <tr>\n",
       "      <th>75%</th>\n",
       "      <td>657.00</td>\n",
       "      <td>654.00</td>\n",
       "    </tr>\n",
       "    <tr>\n",
       "      <th>max</th>\n",
       "      <td>837.65</td>\n",
       "      <td>837.00</td>\n",
       "    </tr>\n",
       "  </tbody>\n",
       "</table>\n",
       "</div>"
      ],
      "text/plain": [
       "            price  price_w_discount\n",
       "count  1378720.00        1378720.00\n",
       "mean       590.73            584.34\n",
       "std         92.70             97.43\n",
       "min        389.23            234.00\n",
       "25%        510.00            506.00\n",
       "50%        582.00            579.00\n",
       "75%        657.00            654.00\n",
       "max        837.65            837.00"
      ]
     },
     "execution_count": 4,
     "metadata": {},
     "output_type": "execute_result"
    }
   ],
   "source": [
    "tr_full = pd.read_parquet('tr.parquet')\n",
    "\n",
    "# cleaning the price feature = removing discounts\n",
    "tr_full['price_w_discount'] = tr_full['price'].copy()\n",
    "tr_full.loc[:, 'price'] = (tr_full['price_w_discount'] / (1-tr_full['discount'].fillna(0)/100))\n",
    "tr_full.loc[:, ['price', 'price_w_discount']].describe().round(2)"
   ]
  },
  {
   "cell_type": "code",
   "execution_count": 5,
   "metadata": {
    "collapsed": false,
    "jupyter": {
     "outputs_hidden": false
    },
    "pycharm": {
     "name": "#%%\n"
    }
   },
   "outputs": [
    {
     "data": {
      "text/html": [
       "<div>\n",
       "<style scoped>\n",
       "    .dataframe tbody tr th:only-of-type {\n",
       "        vertical-align: middle;\n",
       "    }\n",
       "\n",
       "    .dataframe tbody tr th {\n",
       "        vertical-align: top;\n",
       "    }\n",
       "\n",
       "    .dataframe thead tr th {\n",
       "        text-align: left;\n",
       "    }\n",
       "\n",
       "    .dataframe thead tr:last-of-type th {\n",
       "        text-align: right;\n",
       "    }\n",
       "</style>\n",
       "<table border=\"1\" class=\"dataframe\">\n",
       "  <thead>\n",
       "    <tr>\n",
       "      <th></th>\n",
       "      <th colspan=\"2\" halign=\"left\">price</th>\n",
       "      <th colspan=\"2\" halign=\"left\">price_w_discount</th>\n",
       "    </tr>\n",
       "    <tr>\n",
       "      <th></th>\n",
       "      <th>mean</th>\n",
       "      <th>&lt;lambda_0&gt;</th>\n",
       "      <th>mean</th>\n",
       "      <th>&lt;lambda_0&gt;</th>\n",
       "    </tr>\n",
       "    <tr>\n",
       "      <th>product</th>\n",
       "      <th></th>\n",
       "      <th></th>\n",
       "      <th></th>\n",
       "      <th></th>\n",
       "    </tr>\n",
       "  </thead>\n",
       "  <tbody>\n",
       "    <tr>\n",
       "      <th>0</th>\n",
       "      <td>687.967651</td>\n",
       "      <td>688.0</td>\n",
       "      <td>678.646362</td>\n",
       "      <td>688.0</td>\n",
       "    </tr>\n",
       "    <tr>\n",
       "      <th>1</th>\n",
       "      <td>560.000000</td>\n",
       "      <td>560.0</td>\n",
       "      <td>554.625061</td>\n",
       "      <td>560.0</td>\n",
       "    </tr>\n",
       "    <tr>\n",
       "      <th>2</th>\n",
       "      <td>773.017700</td>\n",
       "      <td>773.0</td>\n",
       "      <td>763.236694</td>\n",
       "      <td>773.0</td>\n",
       "    </tr>\n",
       "    <tr>\n",
       "      <th>3</th>\n",
       "      <td>721.981140</td>\n",
       "      <td>722.0</td>\n",
       "      <td>711.966553</td>\n",
       "      <td>722.0</td>\n",
       "    </tr>\n",
       "    <tr>\n",
       "      <th>4</th>\n",
       "      <td>620.000000</td>\n",
       "      <td>620.0</td>\n",
       "      <td>612.488525</td>\n",
       "      <td>620.0</td>\n",
       "    </tr>\n",
       "    <tr>\n",
       "      <th>...</th>\n",
       "      <td>...</td>\n",
       "      <td>...</td>\n",
       "      <td>...</td>\n",
       "      <td>...</td>\n",
       "    </tr>\n",
       "    <tr>\n",
       "      <th>245</th>\n",
       "      <td>548.968628</td>\n",
       "      <td>549.0</td>\n",
       "      <td>542.371399</td>\n",
       "      <td>549.0</td>\n",
       "    </tr>\n",
       "    <tr>\n",
       "      <th>246</th>\n",
       "      <td>701.999084</td>\n",
       "      <td>702.0</td>\n",
       "      <td>694.611084</td>\n",
       "      <td>702.0</td>\n",
       "    </tr>\n",
       "    <tr>\n",
       "      <th>247</th>\n",
       "      <td>670.004395</td>\n",
       "      <td>670.0</td>\n",
       "      <td>661.146790</td>\n",
       "      <td>670.0</td>\n",
       "    </tr>\n",
       "    <tr>\n",
       "      <th>248</th>\n",
       "      <td>489.988068</td>\n",
       "      <td>490.0</td>\n",
       "      <td>484.861359</td>\n",
       "      <td>490.0</td>\n",
       "    </tr>\n",
       "    <tr>\n",
       "      <th>249</th>\n",
       "      <td>498.984344</td>\n",
       "      <td>499.0</td>\n",
       "      <td>493.634705</td>\n",
       "      <td>499.0</td>\n",
       "    </tr>\n",
       "  </tbody>\n",
       "</table>\n",
       "<p>250 rows × 4 columns</p>\n",
       "</div>"
      ],
      "text/plain": [
       "              price            price_w_discount           \n",
       "               mean <lambda_0>             mean <lambda_0>\n",
       "product                                                   \n",
       "0        687.967651      688.0       678.646362      688.0\n",
       "1        560.000000      560.0       554.625061      560.0\n",
       "2        773.017700      773.0       763.236694      773.0\n",
       "3        721.981140      722.0       711.966553      722.0\n",
       "4        620.000000      620.0       612.488525      620.0\n",
       "...             ...        ...              ...        ...\n",
       "245      548.968628      549.0       542.371399      549.0\n",
       "246      701.999084      702.0       694.611084      702.0\n",
       "247      670.004395      670.0       661.146790      670.0\n",
       "248      489.988068      490.0       484.861359      490.0\n",
       "249      498.984344      499.0       493.634705      499.0\n",
       "\n",
       "[250 rows x 4 columns]"
      ]
     },
     "execution_count": 5,
     "metadata": {},
     "output_type": "execute_result"
    }
   ],
   "source": [
    "# comparing mean and mode replacement\n",
    "tr_full.loc[:, ['product', 'price', 'price_w_discount']].groupby(by='product').agg(['mean', lambda x:x.value_counts().index[0]])"
   ]
  },
  {
   "cell_type": "code",
   "execution_count": null,
   "metadata": {
    "collapsed": false,
    "jupyter": {
     "outputs_hidden": false
    },
    "pycharm": {
     "name": "#%%\n"
    }
   },
   "outputs": [],
   "source": [
    "# extract mode prices from the data which is available at each point in time\n",
    "mode_prices = {}\n",
    "for week in tqdm(range(91)):\n",
    "    mode_prices.update({week: tr_full.loc[tr_full['week'] < week, ['product', 'price']].groupby(by='product').agg(lambda x:x.value_counts().index[0]).to_dict()['price']})\n",
    "mode_prices"
   ]
  },
  {
   "cell_type": "code",
   "execution_count": 9,
   "metadata": {
    "collapsed": false,
    "jupyter": {
     "outputs_hidden": false
    },
    "pycharm": {
     "name": "#%%\n"
    }
   },
   "outputs": [],
   "source": [
    "pickle.dump(mode_prices, open('prices.pkl', 'wb'))"
   ]
  },
  {
   "cell_type": "code",
   "execution_count": 6,
   "metadata": {},
   "outputs": [
    {
     "data": {
      "text/html": [
       "<div>\n",
       "<style scoped>\n",
       "    .dataframe tbody tr th:only-of-type {\n",
       "        vertical-align: middle;\n",
       "    }\n",
       "\n",
       "    .dataframe tbody tr th {\n",
       "        vertical-align: top;\n",
       "    }\n",
       "\n",
       "    .dataframe thead th {\n",
       "        text-align: right;\n",
       "    }\n",
       "</style>\n",
       "<table border=\"1\" class=\"dataframe\">\n",
       "  <thead>\n",
       "    <tr style=\"text-align: right;\">\n",
       "      <th></th>\n",
       "      <th>0</th>\n",
       "      <th>1</th>\n",
       "      <th>2</th>\n",
       "      <th>3</th>\n",
       "      <th>4</th>\n",
       "      <th>5</th>\n",
       "      <th>6</th>\n",
       "      <th>7</th>\n",
       "      <th>8</th>\n",
       "      <th>9</th>\n",
       "      <th>...</th>\n",
       "      <th>81</th>\n",
       "      <th>82</th>\n",
       "      <th>83</th>\n",
       "      <th>84</th>\n",
       "      <th>85</th>\n",
       "      <th>86</th>\n",
       "      <th>87</th>\n",
       "      <th>88</th>\n",
       "      <th>89</th>\n",
       "      <th>90</th>\n",
       "    </tr>\n",
       "  </thead>\n",
       "  <tbody>\n",
       "    <tr>\n",
       "      <th>0</th>\n",
       "      <td>NaN</td>\n",
       "      <td>688.0</td>\n",
       "      <td>688.0</td>\n",
       "      <td>688.0</td>\n",
       "      <td>688.0</td>\n",
       "      <td>688.0</td>\n",
       "      <td>688.0</td>\n",
       "      <td>688.0</td>\n",
       "      <td>688.0</td>\n",
       "      <td>688.0</td>\n",
       "      <td>...</td>\n",
       "      <td>688.0</td>\n",
       "      <td>688.0</td>\n",
       "      <td>688.0</td>\n",
       "      <td>688.0</td>\n",
       "      <td>688.0</td>\n",
       "      <td>688.0</td>\n",
       "      <td>688.0</td>\n",
       "      <td>688.0</td>\n",
       "      <td>688.0</td>\n",
       "      <td>688.0</td>\n",
       "    </tr>\n",
       "    <tr>\n",
       "      <th>1</th>\n",
       "      <td>NaN</td>\n",
       "      <td>560.0</td>\n",
       "      <td>560.0</td>\n",
       "      <td>560.0</td>\n",
       "      <td>560.0</td>\n",
       "      <td>560.0</td>\n",
       "      <td>560.0</td>\n",
       "      <td>560.0</td>\n",
       "      <td>560.0</td>\n",
       "      <td>560.0</td>\n",
       "      <td>...</td>\n",
       "      <td>560.0</td>\n",
       "      <td>560.0</td>\n",
       "      <td>560.0</td>\n",
       "      <td>560.0</td>\n",
       "      <td>560.0</td>\n",
       "      <td>560.0</td>\n",
       "      <td>560.0</td>\n",
       "      <td>560.0</td>\n",
       "      <td>560.0</td>\n",
       "      <td>560.0</td>\n",
       "    </tr>\n",
       "    <tr>\n",
       "      <th>2</th>\n",
       "      <td>NaN</td>\n",
       "      <td>773.0</td>\n",
       "      <td>773.0</td>\n",
       "      <td>773.0</td>\n",
       "      <td>773.0</td>\n",
       "      <td>773.0</td>\n",
       "      <td>773.0</td>\n",
       "      <td>773.0</td>\n",
       "      <td>773.0</td>\n",
       "      <td>773.0</td>\n",
       "      <td>...</td>\n",
       "      <td>773.0</td>\n",
       "      <td>773.0</td>\n",
       "      <td>773.0</td>\n",
       "      <td>773.0</td>\n",
       "      <td>773.0</td>\n",
       "      <td>773.0</td>\n",
       "      <td>773.0</td>\n",
       "      <td>773.0</td>\n",
       "      <td>773.0</td>\n",
       "      <td>773.0</td>\n",
       "    </tr>\n",
       "    <tr>\n",
       "      <th>3</th>\n",
       "      <td>NaN</td>\n",
       "      <td>722.0</td>\n",
       "      <td>722.0</td>\n",
       "      <td>722.0</td>\n",
       "      <td>722.0</td>\n",
       "      <td>722.0</td>\n",
       "      <td>722.0</td>\n",
       "      <td>722.0</td>\n",
       "      <td>722.0</td>\n",
       "      <td>722.0</td>\n",
       "      <td>...</td>\n",
       "      <td>722.0</td>\n",
       "      <td>722.0</td>\n",
       "      <td>722.0</td>\n",
       "      <td>722.0</td>\n",
       "      <td>722.0</td>\n",
       "      <td>722.0</td>\n",
       "      <td>722.0</td>\n",
       "      <td>722.0</td>\n",
       "      <td>722.0</td>\n",
       "      <td>722.0</td>\n",
       "    </tr>\n",
       "    <tr>\n",
       "      <th>4</th>\n",
       "      <td>NaN</td>\n",
       "      <td>620.0</td>\n",
       "      <td>620.0</td>\n",
       "      <td>620.0</td>\n",
       "      <td>620.0</td>\n",
       "      <td>620.0</td>\n",
       "      <td>620.0</td>\n",
       "      <td>620.0</td>\n",
       "      <td>620.0</td>\n",
       "      <td>620.0</td>\n",
       "      <td>...</td>\n",
       "      <td>620.0</td>\n",
       "      <td>620.0</td>\n",
       "      <td>620.0</td>\n",
       "      <td>620.0</td>\n",
       "      <td>620.0</td>\n",
       "      <td>620.0</td>\n",
       "      <td>620.0</td>\n",
       "      <td>620.0</td>\n",
       "      <td>620.0</td>\n",
       "      <td>620.0</td>\n",
       "    </tr>\n",
       "    <tr>\n",
       "      <th>...</th>\n",
       "      <td>...</td>\n",
       "      <td>...</td>\n",
       "      <td>...</td>\n",
       "      <td>...</td>\n",
       "      <td>...</td>\n",
       "      <td>...</td>\n",
       "      <td>...</td>\n",
       "      <td>...</td>\n",
       "      <td>...</td>\n",
       "      <td>...</td>\n",
       "      <td>...</td>\n",
       "      <td>...</td>\n",
       "      <td>...</td>\n",
       "      <td>...</td>\n",
       "      <td>...</td>\n",
       "      <td>...</td>\n",
       "      <td>...</td>\n",
       "      <td>...</td>\n",
       "      <td>...</td>\n",
       "      <td>...</td>\n",
       "      <td>...</td>\n",
       "    </tr>\n",
       "    <tr>\n",
       "      <th>245</th>\n",
       "      <td>NaN</td>\n",
       "      <td>549.0</td>\n",
       "      <td>549.0</td>\n",
       "      <td>549.0</td>\n",
       "      <td>549.0</td>\n",
       "      <td>549.0</td>\n",
       "      <td>549.0</td>\n",
       "      <td>549.0</td>\n",
       "      <td>549.0</td>\n",
       "      <td>549.0</td>\n",
       "      <td>...</td>\n",
       "      <td>549.0</td>\n",
       "      <td>549.0</td>\n",
       "      <td>549.0</td>\n",
       "      <td>549.0</td>\n",
       "      <td>549.0</td>\n",
       "      <td>549.0</td>\n",
       "      <td>549.0</td>\n",
       "      <td>549.0</td>\n",
       "      <td>549.0</td>\n",
       "      <td>549.0</td>\n",
       "    </tr>\n",
       "    <tr>\n",
       "      <th>246</th>\n",
       "      <td>NaN</td>\n",
       "      <td>702.0</td>\n",
       "      <td>702.0</td>\n",
       "      <td>702.0</td>\n",
       "      <td>702.0</td>\n",
       "      <td>702.0</td>\n",
       "      <td>702.0</td>\n",
       "      <td>702.0</td>\n",
       "      <td>702.0</td>\n",
       "      <td>702.0</td>\n",
       "      <td>...</td>\n",
       "      <td>702.0</td>\n",
       "      <td>702.0</td>\n",
       "      <td>702.0</td>\n",
       "      <td>702.0</td>\n",
       "      <td>702.0</td>\n",
       "      <td>702.0</td>\n",
       "      <td>702.0</td>\n",
       "      <td>702.0</td>\n",
       "      <td>702.0</td>\n",
       "      <td>702.0</td>\n",
       "    </tr>\n",
       "    <tr>\n",
       "      <th>247</th>\n",
       "      <td>NaN</td>\n",
       "      <td>670.0</td>\n",
       "      <td>670.0</td>\n",
       "      <td>670.0</td>\n",
       "      <td>670.0</td>\n",
       "      <td>670.0</td>\n",
       "      <td>670.0</td>\n",
       "      <td>670.0</td>\n",
       "      <td>670.0</td>\n",
       "      <td>670.0</td>\n",
       "      <td>...</td>\n",
       "      <td>670.0</td>\n",
       "      <td>670.0</td>\n",
       "      <td>670.0</td>\n",
       "      <td>670.0</td>\n",
       "      <td>670.0</td>\n",
       "      <td>670.0</td>\n",
       "      <td>670.0</td>\n",
       "      <td>670.0</td>\n",
       "      <td>670.0</td>\n",
       "      <td>670.0</td>\n",
       "    </tr>\n",
       "    <tr>\n",
       "      <th>248</th>\n",
       "      <td>NaN</td>\n",
       "      <td>490.0</td>\n",
       "      <td>490.0</td>\n",
       "      <td>490.0</td>\n",
       "      <td>490.0</td>\n",
       "      <td>490.0</td>\n",
       "      <td>490.0</td>\n",
       "      <td>490.0</td>\n",
       "      <td>490.0</td>\n",
       "      <td>490.0</td>\n",
       "      <td>...</td>\n",
       "      <td>490.0</td>\n",
       "      <td>490.0</td>\n",
       "      <td>490.0</td>\n",
       "      <td>490.0</td>\n",
       "      <td>490.0</td>\n",
       "      <td>490.0</td>\n",
       "      <td>490.0</td>\n",
       "      <td>490.0</td>\n",
       "      <td>490.0</td>\n",
       "      <td>490.0</td>\n",
       "    </tr>\n",
       "    <tr>\n",
       "      <th>249</th>\n",
       "      <td>NaN</td>\n",
       "      <td>499.0</td>\n",
       "      <td>499.0</td>\n",
       "      <td>499.0</td>\n",
       "      <td>499.0</td>\n",
       "      <td>499.0</td>\n",
       "      <td>499.0</td>\n",
       "      <td>499.0</td>\n",
       "      <td>499.0</td>\n",
       "      <td>499.0</td>\n",
       "      <td>...</td>\n",
       "      <td>499.0</td>\n",
       "      <td>499.0</td>\n",
       "      <td>499.0</td>\n",
       "      <td>499.0</td>\n",
       "      <td>499.0</td>\n",
       "      <td>499.0</td>\n",
       "      <td>499.0</td>\n",
       "      <td>499.0</td>\n",
       "      <td>499.0</td>\n",
       "      <td>499.0</td>\n",
       "    </tr>\n",
       "  </tbody>\n",
       "</table>\n",
       "<p>250 rows × 91 columns</p>\n",
       "</div>"
      ],
      "text/plain": [
       "     0      1      2      3      4      5      6      7      8      9   ...  \\\n",
       "0   NaN  688.0  688.0  688.0  688.0  688.0  688.0  688.0  688.0  688.0  ...   \n",
       "1   NaN  560.0  560.0  560.0  560.0  560.0  560.0  560.0  560.0  560.0  ...   \n",
       "2   NaN  773.0  773.0  773.0  773.0  773.0  773.0  773.0  773.0  773.0  ...   \n",
       "3   NaN  722.0  722.0  722.0  722.0  722.0  722.0  722.0  722.0  722.0  ...   \n",
       "4   NaN  620.0  620.0  620.0  620.0  620.0  620.0  620.0  620.0  620.0  ...   \n",
       "..   ..    ...    ...    ...    ...    ...    ...    ...    ...    ...  ...   \n",
       "245 NaN  549.0  549.0  549.0  549.0  549.0  549.0  549.0  549.0  549.0  ...   \n",
       "246 NaN  702.0  702.0  702.0  702.0  702.0  702.0  702.0  702.0  702.0  ...   \n",
       "247 NaN  670.0  670.0  670.0  670.0  670.0  670.0  670.0  670.0  670.0  ...   \n",
       "248 NaN  490.0  490.0  490.0  490.0  490.0  490.0  490.0  490.0  490.0  ...   \n",
       "249 NaN  499.0  499.0  499.0  499.0  499.0  499.0  499.0  499.0  499.0  ...   \n",
       "\n",
       "        81     82     83     84     85     86     87     88     89     90  \n",
       "0    688.0  688.0  688.0  688.0  688.0  688.0  688.0  688.0  688.0  688.0  \n",
       "1    560.0  560.0  560.0  560.0  560.0  560.0  560.0  560.0  560.0  560.0  \n",
       "2    773.0  773.0  773.0  773.0  773.0  773.0  773.0  773.0  773.0  773.0  \n",
       "3    722.0  722.0  722.0  722.0  722.0  722.0  722.0  722.0  722.0  722.0  \n",
       "4    620.0  620.0  620.0  620.0  620.0  620.0  620.0  620.0  620.0  620.0  \n",
       "..     ...    ...    ...    ...    ...    ...    ...    ...    ...    ...  \n",
       "245  549.0  549.0  549.0  549.0  549.0  549.0  549.0  549.0  549.0  549.0  \n",
       "246  702.0  702.0  702.0  702.0  702.0  702.0  702.0  702.0  702.0  702.0  \n",
       "247  670.0  670.0  670.0  670.0  670.0  670.0  670.0  670.0  670.0  670.0  \n",
       "248  490.0  490.0  490.0  490.0  490.0  490.0  490.0  490.0  490.0  490.0  \n",
       "249  499.0  499.0  499.0  499.0  499.0  499.0  499.0  499.0  499.0  499.0  \n",
       "\n",
       "[250 rows x 91 columns]"
      ]
     },
     "execution_count": 6,
     "metadata": {},
     "output_type": "execute_result"
    }
   ],
   "source": [
    "mode_prices = pickle.load(open('prices.pkl', 'rb'))\n",
    "pd.DataFrame(mode_prices)"
   ]
  },
  {
   "cell_type": "markdown",
   "metadata": {
    "pycharm": {
     "name": "#%% md\n"
    }
   },
   "source": [
    "### **2.3 Creating Features: Product History Map**"
   ]
  },
  {
   "cell_type": "code",
   "execution_count": 7,
   "metadata": {
    "collapsed": false,
    "jupyter": {
     "outputs_hidden": false
    },
    "pycharm": {
     "name": "#%%\n"
    }
   },
   "outputs": [],
   "source": [
    "df_full = pd.read_parquet('df.parquet')\n",
    "df = df_full.loc[df_full['shopper'] < 2000]"
   ]
  },
  {
   "cell_type": "code",
   "execution_count": 8,
   "metadata": {
    "collapsed": false,
    "jupyter": {
     "outputs_hidden": false
    },
    "pycharm": {
     "name": "#%%\n"
    }
   },
   "outputs": [
    {
     "data": {
      "text/html": [
       "<div>\n",
       "<style scoped>\n",
       "    .dataframe tbody tr th:only-of-type {\n",
       "        vertical-align: middle;\n",
       "    }\n",
       "\n",
       "    .dataframe tbody tr th {\n",
       "        vertical-align: top;\n",
       "    }\n",
       "\n",
       "    .dataframe thead th {\n",
       "        text-align: right;\n",
       "    }\n",
       "</style>\n",
       "<table border=\"1\" class=\"dataframe\">\n",
       "  <thead>\n",
       "    <tr style=\"text-align: right;\">\n",
       "      <th></th>\n",
       "      <th>0</th>\n",
       "      <th>1</th>\n",
       "      <th>2</th>\n",
       "      <th>3</th>\n",
       "      <th>4</th>\n",
       "      <th>5</th>\n",
       "      <th>6</th>\n",
       "      <th>7</th>\n",
       "      <th>8</th>\n",
       "      <th>9</th>\n",
       "      <th>...</th>\n",
       "      <th>240</th>\n",
       "      <th>241</th>\n",
       "      <th>242</th>\n",
       "      <th>243</th>\n",
       "      <th>244</th>\n",
       "      <th>245</th>\n",
       "      <th>246</th>\n",
       "      <th>247</th>\n",
       "      <th>248</th>\n",
       "      <th>249</th>\n",
       "    </tr>\n",
       "  </thead>\n",
       "  <tbody>\n",
       "    <tr>\n",
       "      <th>0</th>\n",
       "      <td>[-inf]</td>\n",
       "      <td>[-inf]</td>\n",
       "      <td>[-inf]</td>\n",
       "      <td>[-inf]</td>\n",
       "      <td>[-inf]</td>\n",
       "      <td>[-inf]</td>\n",
       "      <td>[-inf]</td>\n",
       "      <td>[-inf]</td>\n",
       "      <td>[-inf]</td>\n",
       "      <td>[-inf]</td>\n",
       "      <td>...</td>\n",
       "      <td>[-inf]</td>\n",
       "      <td>[-inf]</td>\n",
       "      <td>[-inf]</td>\n",
       "      <td>[-inf]</td>\n",
       "      <td>[-inf]</td>\n",
       "      <td>[-inf]</td>\n",
       "      <td>[-inf]</td>\n",
       "      <td>[-inf]</td>\n",
       "      <td>[-inf]</td>\n",
       "      <td>[-inf]</td>\n",
       "    </tr>\n",
       "    <tr>\n",
       "      <th>1</th>\n",
       "      <td>[-inf]</td>\n",
       "      <td>[-inf]</td>\n",
       "      <td>[-inf]</td>\n",
       "      <td>[-inf]</td>\n",
       "      <td>[-inf]</td>\n",
       "      <td>[-inf]</td>\n",
       "      <td>[-inf]</td>\n",
       "      <td>[-inf]</td>\n",
       "      <td>[-inf]</td>\n",
       "      <td>[-inf]</td>\n",
       "      <td>...</td>\n",
       "      <td>[-inf]</td>\n",
       "      <td>[-inf]</td>\n",
       "      <td>[-inf]</td>\n",
       "      <td>[-inf]</td>\n",
       "      <td>[-inf]</td>\n",
       "      <td>[-inf]</td>\n",
       "      <td>[-inf]</td>\n",
       "      <td>[-inf]</td>\n",
       "      <td>[-inf]</td>\n",
       "      <td>[-inf]</td>\n",
       "    </tr>\n",
       "    <tr>\n",
       "      <th>2</th>\n",
       "      <td>[-inf]</td>\n",
       "      <td>[-inf]</td>\n",
       "      <td>[-inf]</td>\n",
       "      <td>[-inf]</td>\n",
       "      <td>[-inf]</td>\n",
       "      <td>[-inf]</td>\n",
       "      <td>[-inf]</td>\n",
       "      <td>[-inf]</td>\n",
       "      <td>[-inf]</td>\n",
       "      <td>[-inf]</td>\n",
       "      <td>...</td>\n",
       "      <td>[-inf]</td>\n",
       "      <td>[-inf]</td>\n",
       "      <td>[-inf]</td>\n",
       "      <td>[-inf]</td>\n",
       "      <td>[-inf]</td>\n",
       "      <td>[-inf]</td>\n",
       "      <td>[-inf]</td>\n",
       "      <td>[-inf]</td>\n",
       "      <td>[-inf]</td>\n",
       "      <td>[-inf]</td>\n",
       "    </tr>\n",
       "    <tr>\n",
       "      <th>3</th>\n",
       "      <td>[-inf]</td>\n",
       "      <td>[-inf]</td>\n",
       "      <td>[-inf]</td>\n",
       "      <td>[-inf]</td>\n",
       "      <td>[-inf]</td>\n",
       "      <td>[-inf]</td>\n",
       "      <td>[-inf]</td>\n",
       "      <td>[-inf]</td>\n",
       "      <td>[-inf]</td>\n",
       "      <td>[-inf]</td>\n",
       "      <td>...</td>\n",
       "      <td>[-inf]</td>\n",
       "      <td>[-inf]</td>\n",
       "      <td>[-inf]</td>\n",
       "      <td>[-inf]</td>\n",
       "      <td>[-inf]</td>\n",
       "      <td>[-inf]</td>\n",
       "      <td>[-inf]</td>\n",
       "      <td>[-inf]</td>\n",
       "      <td>[-inf]</td>\n",
       "      <td>[-inf]</td>\n",
       "    </tr>\n",
       "    <tr>\n",
       "      <th>4</th>\n",
       "      <td>[-inf]</td>\n",
       "      <td>[-inf]</td>\n",
       "      <td>[-inf]</td>\n",
       "      <td>[-inf]</td>\n",
       "      <td>[-inf]</td>\n",
       "      <td>[-inf]</td>\n",
       "      <td>[-inf]</td>\n",
       "      <td>[-inf]</td>\n",
       "      <td>[-inf]</td>\n",
       "      <td>[-inf]</td>\n",
       "      <td>...</td>\n",
       "      <td>[-inf]</td>\n",
       "      <td>[-inf]</td>\n",
       "      <td>[-inf]</td>\n",
       "      <td>[-inf]</td>\n",
       "      <td>[-inf]</td>\n",
       "      <td>[-inf]</td>\n",
       "      <td>[-inf]</td>\n",
       "      <td>[-inf]</td>\n",
       "      <td>[-inf]</td>\n",
       "      <td>[-inf]</td>\n",
       "    </tr>\n",
       "  </tbody>\n",
       "</table>\n",
       "<p>5 rows × 250 columns</p>\n",
       "</div>"
      ],
      "text/plain": [
       "      0       1       2       3       4       5       6       7       8    \\\n",
       "0  [-inf]  [-inf]  [-inf]  [-inf]  [-inf]  [-inf]  [-inf]  [-inf]  [-inf]   \n",
       "1  [-inf]  [-inf]  [-inf]  [-inf]  [-inf]  [-inf]  [-inf]  [-inf]  [-inf]   \n",
       "2  [-inf]  [-inf]  [-inf]  [-inf]  [-inf]  [-inf]  [-inf]  [-inf]  [-inf]   \n",
       "3  [-inf]  [-inf]  [-inf]  [-inf]  [-inf]  [-inf]  [-inf]  [-inf]  [-inf]   \n",
       "4  [-inf]  [-inf]  [-inf]  [-inf]  [-inf]  [-inf]  [-inf]  [-inf]  [-inf]   \n",
       "\n",
       "      9    ...     240     241     242     243     244     245     246  \\\n",
       "0  [-inf]  ...  [-inf]  [-inf]  [-inf]  [-inf]  [-inf]  [-inf]  [-inf]   \n",
       "1  [-inf]  ...  [-inf]  [-inf]  [-inf]  [-inf]  [-inf]  [-inf]  [-inf]   \n",
       "2  [-inf]  ...  [-inf]  [-inf]  [-inf]  [-inf]  [-inf]  [-inf]  [-inf]   \n",
       "3  [-inf]  ...  [-inf]  [-inf]  [-inf]  [-inf]  [-inf]  [-inf]  [-inf]   \n",
       "4  [-inf]  ...  [-inf]  [-inf]  [-inf]  [-inf]  [-inf]  [-inf]  [-inf]   \n",
       "\n",
       "      247     248     249  \n",
       "0  [-inf]  [-inf]  [-inf]  \n",
       "1  [-inf]  [-inf]  [-inf]  \n",
       "2  [-inf]  [-inf]  [-inf]  \n",
       "3  [-inf]  [-inf]  [-inf]  \n",
       "4  [-inf]  [-inf]  [-inf]  \n",
       "\n",
       "[5 rows x 250 columns]"
      ]
     },
     "execution_count": 8,
     "metadata": {},
     "output_type": "execute_result"
    }
   ],
   "source": [
    "n_shoppers = 2000\n",
    "n_products = 250\n",
    "\n",
    "product_history = pd.DataFrame(np.array([[-np.infty]]*n_shoppers*n_products).reshape(n_shoppers, n_products))\n",
    "for col in product_history.columns:\n",
    "    product_history[col] = product_history[col].apply(lambda x: [x])\n",
    "product_history.head()"
   ]
  },
  {
   "cell_type": "code",
   "execution_count": 9,
   "metadata": {
    "collapsed": false,
    "jupyter": {
     "outputs_hidden": false
    },
    "pycharm": {
     "name": "#%%\n"
    }
   },
   "outputs": [
    {
     "name": "stderr",
     "output_type": "stream",
     "text": [
      "100%|██████████| 1378720/1378720 [01:24<00:00, 16258.48it/s]\n"
     ]
    },
    {
     "data": {
      "text/html": [
       "<div>\n",
       "<style scoped>\n",
       "    .dataframe tbody tr th:only-of-type {\n",
       "        vertical-align: middle;\n",
       "    }\n",
       "\n",
       "    .dataframe tbody tr th {\n",
       "        vertical-align: top;\n",
       "    }\n",
       "\n",
       "    .dataframe thead th {\n",
       "        text-align: right;\n",
       "    }\n",
       "</style>\n",
       "<table border=\"1\" class=\"dataframe\">\n",
       "  <thead>\n",
       "    <tr style=\"text-align: right;\">\n",
       "      <th></th>\n",
       "      <th>0</th>\n",
       "      <th>1</th>\n",
       "      <th>2</th>\n",
       "      <th>3</th>\n",
       "      <th>4</th>\n",
       "      <th>5</th>\n",
       "      <th>6</th>\n",
       "      <th>7</th>\n",
       "      <th>8</th>\n",
       "      <th>9</th>\n",
       "      <th>...</th>\n",
       "      <th>240</th>\n",
       "      <th>241</th>\n",
       "      <th>242</th>\n",
       "      <th>243</th>\n",
       "      <th>244</th>\n",
       "      <th>245</th>\n",
       "      <th>246</th>\n",
       "      <th>247</th>\n",
       "      <th>248</th>\n",
       "      <th>249</th>\n",
       "    </tr>\n",
       "  </thead>\n",
       "  <tbody>\n",
       "    <tr>\n",
       "      <th>0</th>\n",
       "      <td>[-inf]</td>\n",
       "      <td>[-inf]</td>\n",
       "      <td>[-inf]</td>\n",
       "      <td>[-inf]</td>\n",
       "      <td>[-inf, 24.0, 40.0, 45.0, 51.0, 54.0, 58.0, 60....</td>\n",
       "      <td>[-inf]</td>\n",
       "      <td>[-inf]</td>\n",
       "      <td>[-inf]</td>\n",
       "      <td>[-inf]</td>\n",
       "      <td>[-inf]</td>\n",
       "      <td>...</td>\n",
       "      <td>[-inf, 27.0]</td>\n",
       "      <td>[-inf]</td>\n",
       "      <td>[-inf]</td>\n",
       "      <td>[-inf, 44.0]</td>\n",
       "      <td>[-inf, 5.0, 8.0, 20.0, 37.0, 38.0, 56.0, 59.0]</td>\n",
       "      <td>[-inf]</td>\n",
       "      <td>[-inf]</td>\n",
       "      <td>[-inf]</td>\n",
       "      <td>[-inf]</td>\n",
       "      <td>[-inf, 10.0, 26.0, 28.0, 32.0, 35.0, 40.0, 65....</td>\n",
       "    </tr>\n",
       "    <tr>\n",
       "      <th>1</th>\n",
       "      <td>[-inf, 7.0, 11.0, 48.0, 61.0, 66.0, 81.0]</td>\n",
       "      <td>[-inf, 2.0, 6.0, 18.0, 20.0, 27.0, 29.0, 49.0,...</td>\n",
       "      <td>[-inf]</td>\n",
       "      <td>[-inf]</td>\n",
       "      <td>[-inf, 5.0, 13.0, 21.0, 23.0, 30.0, 47.0, 69.0...</td>\n",
       "      <td>[-inf]</td>\n",
       "      <td>[-inf]</td>\n",
       "      <td>[-inf]</td>\n",
       "      <td>[-inf]</td>\n",
       "      <td>[-inf]</td>\n",
       "      <td>...</td>\n",
       "      <td>[-inf]</td>\n",
       "      <td>[-inf]</td>\n",
       "      <td>[-inf]</td>\n",
       "      <td>[-inf]</td>\n",
       "      <td>[-inf]</td>\n",
       "      <td>[-inf]</td>\n",
       "      <td>[-inf]</td>\n",
       "      <td>[-inf]</td>\n",
       "      <td>[-inf]</td>\n",
       "      <td>[-inf, 4.0, 19.0, 22.0, 35.0, 79.0, 88.0]</td>\n",
       "    </tr>\n",
       "    <tr>\n",
       "      <th>2</th>\n",
       "      <td>[-inf]</td>\n",
       "      <td>[-inf, 2.0, 3.0, 6.0, 7.0, 8.0, 9.0, 11.0, 13....</td>\n",
       "      <td>[-inf]</td>\n",
       "      <td>[-inf]</td>\n",
       "      <td>[-inf]</td>\n",
       "      <td>[-inf]</td>\n",
       "      <td>[-inf, 5.0, 10.0, 15.0, 32.0, 54.0]</td>\n",
       "      <td>[-inf]</td>\n",
       "      <td>[-inf]</td>\n",
       "      <td>[-inf, 1.0, 17.0]</td>\n",
       "      <td>...</td>\n",
       "      <td>[-inf, 4.0, 5.0, 16.0, 18.0, 21.0, 26.0, 33.0,...</td>\n",
       "      <td>[-inf]</td>\n",
       "      <td>[-inf]</td>\n",
       "      <td>[-inf]</td>\n",
       "      <td>[-inf]</td>\n",
       "      <td>[-inf, 75.0]</td>\n",
       "      <td>[-inf]</td>\n",
       "      <td>[-inf]</td>\n",
       "      <td>[-inf, 3.0, 14.0, 20.0, 42.0, 45.0, 50.0, 51.0...</td>\n",
       "      <td>[-inf, 0.0, 23.0, 30.0, 31.0, 39.0]</td>\n",
       "    </tr>\n",
       "    <tr>\n",
       "      <th>3</th>\n",
       "      <td>[-inf]</td>\n",
       "      <td>[-inf]</td>\n",
       "      <td>[-inf]</td>\n",
       "      <td>[-inf]</td>\n",
       "      <td>[-inf, 7.0, 19.0, 27.0]</td>\n",
       "      <td>[-inf]</td>\n",
       "      <td>[-inf, 0.0, 13.0, 16.0, 18.0, 20.0, 23.0, 30.0...</td>\n",
       "      <td>[-inf, 11.0, 29.0, 38.0, 47.0, 69.0, 85.0]</td>\n",
       "      <td>[-inf]</td>\n",
       "      <td>[-inf]</td>\n",
       "      <td>...</td>\n",
       "      <td>[-inf]</td>\n",
       "      <td>[-inf]</td>\n",
       "      <td>[-inf]</td>\n",
       "      <td>[-inf, 57.0]</td>\n",
       "      <td>[-inf]</td>\n",
       "      <td>[-inf, 14.0, 87.0]</td>\n",
       "      <td>[-inf]</td>\n",
       "      <td>[-inf]</td>\n",
       "      <td>[-inf, 2.0, 5.0, 10.0, 23.0, 38.0, 44.0, 47.0,...</td>\n",
       "      <td>[-inf, 16.0, 51.0, 71.0]</td>\n",
       "    </tr>\n",
       "    <tr>\n",
       "      <th>4</th>\n",
       "      <td>[-inf]</td>\n",
       "      <td>[-inf]</td>\n",
       "      <td>[-inf, 6.0, 15.0, 21.0, 22.0, 27.0, 28.0, 58.0...</td>\n",
       "      <td>[-inf]</td>\n",
       "      <td>[-inf]</td>\n",
       "      <td>[-inf]</td>\n",
       "      <td>[-inf]</td>\n",
       "      <td>[-inf]</td>\n",
       "      <td>[-inf]</td>\n",
       "      <td>[-inf]</td>\n",
       "      <td>...</td>\n",
       "      <td>[-inf]</td>\n",
       "      <td>[-inf]</td>\n",
       "      <td>[-inf]</td>\n",
       "      <td>[-inf]</td>\n",
       "      <td>[-inf]</td>\n",
       "      <td>[-inf]</td>\n",
       "      <td>[-inf]</td>\n",
       "      <td>[-inf]</td>\n",
       "      <td>[-inf]</td>\n",
       "      <td>[-inf]</td>\n",
       "    </tr>\n",
       "  </tbody>\n",
       "</table>\n",
       "<p>5 rows × 250 columns</p>\n",
       "</div>"
      ],
      "text/plain": [
       "                                         0    \\\n",
       "0                                     [-inf]   \n",
       "1  [-inf, 7.0, 11.0, 48.0, 61.0, 66.0, 81.0]   \n",
       "2                                     [-inf]   \n",
       "3                                     [-inf]   \n",
       "4                                     [-inf]   \n",
       "\n",
       "                                                 1    \\\n",
       "0                                             [-inf]   \n",
       "1  [-inf, 2.0, 6.0, 18.0, 20.0, 27.0, 29.0, 49.0,...   \n",
       "2  [-inf, 2.0, 3.0, 6.0, 7.0, 8.0, 9.0, 11.0, 13....   \n",
       "3                                             [-inf]   \n",
       "4                                             [-inf]   \n",
       "\n",
       "                                                 2       3    \\\n",
       "0                                             [-inf]  [-inf]   \n",
       "1                                             [-inf]  [-inf]   \n",
       "2                                             [-inf]  [-inf]   \n",
       "3                                             [-inf]  [-inf]   \n",
       "4  [-inf, 6.0, 15.0, 21.0, 22.0, 27.0, 28.0, 58.0...  [-inf]   \n",
       "\n",
       "                                                 4       5    \\\n",
       "0  [-inf, 24.0, 40.0, 45.0, 51.0, 54.0, 58.0, 60....  [-inf]   \n",
       "1  [-inf, 5.0, 13.0, 21.0, 23.0, 30.0, 47.0, 69.0...  [-inf]   \n",
       "2                                             [-inf]  [-inf]   \n",
       "3                            [-inf, 7.0, 19.0, 27.0]  [-inf]   \n",
       "4                                             [-inf]  [-inf]   \n",
       "\n",
       "                                                 6    \\\n",
       "0                                             [-inf]   \n",
       "1                                             [-inf]   \n",
       "2                [-inf, 5.0, 10.0, 15.0, 32.0, 54.0]   \n",
       "3  [-inf, 0.0, 13.0, 16.0, 18.0, 20.0, 23.0, 30.0...   \n",
       "4                                             [-inf]   \n",
       "\n",
       "                                          7       8                  9    ...  \\\n",
       "0                                      [-inf]  [-inf]             [-inf]  ...   \n",
       "1                                      [-inf]  [-inf]             [-inf]  ...   \n",
       "2                                      [-inf]  [-inf]  [-inf, 1.0, 17.0]  ...   \n",
       "3  [-inf, 11.0, 29.0, 38.0, 47.0, 69.0, 85.0]  [-inf]             [-inf]  ...   \n",
       "4                                      [-inf]  [-inf]             [-inf]  ...   \n",
       "\n",
       "                                                 240     241     242  \\\n",
       "0                                       [-inf, 27.0]  [-inf]  [-inf]   \n",
       "1                                             [-inf]  [-inf]  [-inf]   \n",
       "2  [-inf, 4.0, 5.0, 16.0, 18.0, 21.0, 26.0, 33.0,...  [-inf]  [-inf]   \n",
       "3                                             [-inf]  [-inf]  [-inf]   \n",
       "4                                             [-inf]  [-inf]  [-inf]   \n",
       "\n",
       "            243                                             244  \\\n",
       "0  [-inf, 44.0]  [-inf, 5.0, 8.0, 20.0, 37.0, 38.0, 56.0, 59.0]   \n",
       "1        [-inf]                                          [-inf]   \n",
       "2        [-inf]                                          [-inf]   \n",
       "3  [-inf, 57.0]                                          [-inf]   \n",
       "4        [-inf]                                          [-inf]   \n",
       "\n",
       "                  245     246     247  \\\n",
       "0              [-inf]  [-inf]  [-inf]   \n",
       "1              [-inf]  [-inf]  [-inf]   \n",
       "2        [-inf, 75.0]  [-inf]  [-inf]   \n",
       "3  [-inf, 14.0, 87.0]  [-inf]  [-inf]   \n",
       "4              [-inf]  [-inf]  [-inf]   \n",
       "\n",
       "                                                 248  \\\n",
       "0                                             [-inf]   \n",
       "1                                             [-inf]   \n",
       "2  [-inf, 3.0, 14.0, 20.0, 42.0, 45.0, 50.0, 51.0...   \n",
       "3  [-inf, 2.0, 5.0, 10.0, 23.0, 38.0, 44.0, 47.0,...   \n",
       "4                                             [-inf]   \n",
       "\n",
       "                                                 249  \n",
       "0  [-inf, 10.0, 26.0, 28.0, 32.0, 35.0, 40.0, 65....  \n",
       "1          [-inf, 4.0, 19.0, 22.0, 35.0, 79.0, 88.0]  \n",
       "2                [-inf, 0.0, 23.0, 30.0, 31.0, 39.0]  \n",
       "3                           [-inf, 16.0, 51.0, 71.0]  \n",
       "4                                             [-inf]  \n",
       "\n",
       "[5 rows x 250 columns]"
      ]
     },
     "execution_count": 9,
     "metadata": {},
     "output_type": "execute_result"
    }
   ],
   "source": [
    "append_hist = lambda row: product_history.loc[row['shopper'], row['product']].append(row['week'])\n",
    "df.progress_apply(append_hist, axis=1) # using apply is faster than using a for loop\n",
    "product_history.head()"
   ]
  },
  {
   "cell_type": "code",
   "execution_count": 10,
   "metadata": {
    "collapsed": false,
    "jupyter": {
     "outputs_hidden": false
    },
    "pycharm": {
     "name": "#%%\n"
    }
   },
   "outputs": [],
   "source": [
    "pickle.dump(product_history, open('history.pkl', 'wb'))"
   ]
  },
  {
   "cell_type": "code",
   "execution_count": 11,
   "metadata": {
    "collapsed": false,
    "jupyter": {
     "outputs_hidden": false
    },
    "pycharm": {
     "name": "#%%\n"
    }
   },
   "outputs": [],
   "source": [
    "def get_history(product_history, shopper, product, week):\n",
    "    arr = np.array(product_history.loc[shopper, product])\n",
    "    return arr[arr < week]\n",
    "\n",
    "def get_last_purchase(product_history, shopper, product, week):\n",
    "    return get_history(product_history, shopper, product, week)[-1]\n",
    "\n",
    "def get_trend(row, trend_window): # i.e. purchase frequency over the specified trend window\n",
    "    arr = row['product_history']\n",
    "    return np.unique(arr[arr >= row['week'] - trend_window]).shape[0] / trend_window"
   ]
  },
  {
   "cell_type": "markdown",
   "metadata": {
    "pycharm": {
     "name": "#%% md\n"
    }
   },
   "source": [
    "\n",
    "\n",
    "\n",
    "\n",
    "\n",
    "### **2.4 Train Test Split**"
   ]
  },
  {
   "cell_type": "code",
   "execution_count": 12,
   "metadata": {
    "collapsed": false,
    "jupyter": {
     "outputs_hidden": false
    },
    "pycharm": {
     "name": "#%%\n"
    }
   },
   "outputs": [],
   "source": [
    "def train_test_split(tr_full, test_week, train_window, features='default'):\n",
    "    time_start = time.time()\n",
    "\n",
    "    # reducing data to specified weeks\n",
    "    start = test_week - train_window\n",
    "    df = tr_full.loc[(tr_full['week'] >= start) & (tr_full['week'] <= test_week), :]\n",
    "\n",
    "    # cleaning prices using the mode prices map\n",
    "    df.loc[df['price'].isna(), 'price'] = df.loc[df['price'].isna(), :].progress_apply(lambda row: mode_prices[row['week']][row['product']], axis=1)\n",
    "\n",
    "    # shopper-product histories\n",
    "    df.loc[:, 'product_history'] = df.progress_apply(lambda row: get_history(product_history, row['shopper'], row['product'], row['week']), axis = 1)\n",
    "    df.loc[:, 'last_purchase'] = df['product_history'].progress_apply(lambda x: x[-1])\n",
    "    df.loc[:, 'weeks_since_last_purchase'] = df['week'] - df['last_purchase']\n",
    "    df.loc[df['weeks_since_last_purchase'] == np.inf, 'weeks_since_last_purchase'] = np.ceil(df['week'].max() * 1.15)\n",
    "\n",
    "    # trends\n",
    "    windows = [1, 3, 5]\n",
    "    for window in windows:\n",
    "        df.loc[:, 'trend_'+str(window)] = df.progress_apply(lambda row: get_trend(row, window), axis=1)\n",
    "\n",
    "    # shopper-product freq --> will be used as management heuristic later\n",
    "    df.loc[:, 'product_freq'] = df.progress_apply(lambda row: get_trend(row, row['week']), axis=1)\n",
    "\n",
    "    # drop redundant columns\n",
    "    redundant = ['discount', 'coupon', 'price_w_discount']\n",
    "    cols = [col for col in df.columns if col not in redundant]\n",
    "    tr = df.loc[df['week'] != test_week, cols]\n",
    "    ts = df.loc[df['week'] == test_week, cols]\n",
    "\n",
    "    # WOE category encoding\n",
    "    encoder = ce.WOEEncoder()\n",
    "    tr.loc[:, 'shopper_WOE'] = encoder.fit_transform(tr['shopper'].astype('category'), tr['purchased'])['shopper'].values\n",
    "    ts.loc[:, 'shopper_WOE'] = encoder.transform(ts['shopper'].astype('category'))['shopper'].values\n",
    "    encoder = ce.WOEEncoder()\n",
    "    tr.loc[:, 'product_WOE'] = encoder.fit_transform(tr['product'].astype('category'), tr['purchased'])['product'].values\n",
    "    ts.loc[:, 'product_WOE'] = encoder.transform(ts['product'].astype('category'))['product'].values\n",
    "\n",
    "    # final split\n",
    "    features = [col for col in tr.columns if col not in ['purchased', 'shopper', 'week', 'product', 'product_history', 'last_purchase']] if features == 'default' else features\n",
    "    X_train = tr.loc[:, features]\n",
    "    y_train = tr['purchased']\n",
    "    X_test = ts.loc[:, features]\n",
    "    y_test = ts['purchased']\n",
    "\n",
    "    print(f'[elapsed time] {np.round(time.time() - time_start, 2)/60} min')\n",
    "    return X_train, y_train, X_test, y_test"
   ]
  },
  {
   "cell_type": "code",
   "execution_count": 13,
   "metadata": {
    "collapsed": false,
    "jupyter": {
     "outputs_hidden": false
    },
    "pycharm": {
     "name": "#%%\n"
    }
   },
   "outputs": [],
   "source": [
    "tr_full = pd.read_parquet('tr.parquet')\n",
    "product_history = pickle.load(open('history.pkl', 'rb'))\n",
    "mode_prices = pickle.load(open('prices.pkl', 'rb'))"
   ]
  },
  {
   "cell_type": "code",
   "execution_count": null,
   "metadata": {
    "collapsed": false,
    "jupyter": {
     "outputs_hidden": false
    },
    "pycharm": {
     "name": "#%%\n"
    }
   },
   "outputs": [],
   "source": [
    "X_train, y_train, X_test, y_test = train_test_split(tr_full, 85, 4)"
   ]
  },
  {
   "cell_type": "code",
   "execution_count": 14,
   "metadata": {},
   "outputs": [],
   "source": [
    "X_train, y_train, X_test, y_test = pickle.load(open('split_85-4.pkl', 'rb'))"
   ]
  },
  {
   "cell_type": "code",
   "execution_count": 15,
   "metadata": {},
   "outputs": [
    {
     "data": {
      "text/html": [
       "<div>\n",
       "<style scoped>\n",
       "    .dataframe tbody tr th:only-of-type {\n",
       "        vertical-align: middle;\n",
       "    }\n",
       "\n",
       "    .dataframe tbody tr th {\n",
       "        vertical-align: top;\n",
       "    }\n",
       "\n",
       "    .dataframe thead th {\n",
       "        text-align: right;\n",
       "    }\n",
       "</style>\n",
       "<table border=\"1\" class=\"dataframe\">\n",
       "  <thead>\n",
       "    <tr style=\"text-align: right;\">\n",
       "      <th></th>\n",
       "      <th>price</th>\n",
       "      <th>weeks_since_last_purchase</th>\n",
       "      <th>trend_1</th>\n",
       "      <th>trend_3</th>\n",
       "      <th>trend_5</th>\n",
       "      <th>product_freq</th>\n",
       "      <th>shopper_WOE</th>\n",
       "      <th>product_WOE</th>\n",
       "    </tr>\n",
       "  </thead>\n",
       "  <tbody>\n",
       "    <tr>\n",
       "      <th>20250</th>\n",
       "      <td>688.0</td>\n",
       "      <td>98.0</td>\n",
       "      <td>0.0</td>\n",
       "      <td>0.0</td>\n",
       "      <td>0.0</td>\n",
       "      <td>0.000000</td>\n",
       "      <td>0.079451</td>\n",
       "      <td>-0.708854</td>\n",
       "    </tr>\n",
       "    <tr>\n",
       "      <th>20251</th>\n",
       "      <td>560.0</td>\n",
       "      <td>98.0</td>\n",
       "      <td>0.0</td>\n",
       "      <td>0.0</td>\n",
       "      <td>0.0</td>\n",
       "      <td>0.000000</td>\n",
       "      <td>0.079451</td>\n",
       "      <td>0.641240</td>\n",
       "    </tr>\n",
       "    <tr>\n",
       "      <th>20252</th>\n",
       "      <td>773.0</td>\n",
       "      <td>98.0</td>\n",
       "      <td>0.0</td>\n",
       "      <td>0.0</td>\n",
       "      <td>0.0</td>\n",
       "      <td>0.000000</td>\n",
       "      <td>0.079451</td>\n",
       "      <td>-0.652174</td>\n",
       "    </tr>\n",
       "    <tr>\n",
       "      <th>20253</th>\n",
       "      <td>722.0</td>\n",
       "      <td>98.0</td>\n",
       "      <td>0.0</td>\n",
       "      <td>0.0</td>\n",
       "      <td>0.0</td>\n",
       "      <td>0.000000</td>\n",
       "      <td>0.079451</td>\n",
       "      <td>-1.532484</td>\n",
       "    </tr>\n",
       "    <tr>\n",
       "      <th>20254</th>\n",
       "      <td>620.0</td>\n",
       "      <td>11.0</td>\n",
       "      <td>0.0</td>\n",
       "      <td>0.0</td>\n",
       "      <td>0.0</td>\n",
       "      <td>0.098765</td>\n",
       "      <td>0.079451</td>\n",
       "      <td>-0.169311</td>\n",
       "    </tr>\n",
       "  </tbody>\n",
       "</table>\n",
       "</div>"
      ],
      "text/plain": [
       "       price  weeks_since_last_purchase  trend_1  trend_3  trend_5  \\\n",
       "20250  688.0                       98.0      0.0      0.0      0.0   \n",
       "20251  560.0                       98.0      0.0      0.0      0.0   \n",
       "20252  773.0                       98.0      0.0      0.0      0.0   \n",
       "20253  722.0                       98.0      0.0      0.0      0.0   \n",
       "20254  620.0                       11.0      0.0      0.0      0.0   \n",
       "\n",
       "       product_freq  shopper_WOE  product_WOE  \n",
       "20250      0.000000     0.079451    -0.708854  \n",
       "20251      0.000000     0.079451     0.641240  \n",
       "20252      0.000000     0.079451    -0.652174  \n",
       "20253      0.000000     0.079451    -1.532484  \n",
       "20254      0.098765     0.079451    -0.169311  "
      ]
     },
     "execution_count": 15,
     "metadata": {},
     "output_type": "execute_result"
    }
   ],
   "source": [
    "X_train.head()"
   ]
  },
  {
   "cell_type": "code",
   "execution_count": 16,
   "metadata": {
    "collapsed": false,
    "jupyter": {
     "outputs_hidden": false
    },
    "pycharm": {
     "name": "#%%\n"
    }
   },
   "outputs": [
    {
     "data": {
      "text/plain": [
       "<AxesSubplot:>"
      ]
     },
     "execution_count": 16,
     "metadata": {},
     "output_type": "execute_result"
    },
    {
     "data": {
      "image/png": "[encoded data removed]",
      "text/plain": [
       "<Figure size 432x288 with 2 Axes>"
      ]
     },
     "metadata": {
      "needs_background": "light"
     },
     "output_type": "display_data"
    }
   ],
   "source": [
    "sns.heatmap(X_train.join(y_train).corr().round(2), annot=True)"
   ]
  },
  {
   "cell_type": "markdown",
   "metadata": {
    "pycharm": {
     "name": "#%% md\n"
    }
   },
   "source": [
    "\n",
    "\n",
    "\n",
    "\n",
    "## **3. Model Training and Evaluation**"
   ]
  },
  {
   "cell_type": "code",
   "execution_count": 17,
   "metadata": {
    "collapsed": false,
    "jupyter": {
     "outputs_hidden": false
    },
    "pycharm": {
     "name": "#%%\n"
    }
   },
   "outputs": [],
   "source": [
    "class baseline:\n",
    "\n",
    "    def uniform(X):\n",
    "        import numpy as np\n",
    "        return [np.random.uniform(0,1) for x in range(X.shape[0])]\n",
    "\n",
    "    def constant(X, constant):\n",
    "        return [constant]*X.shape[0]"
   ]
  },
  {
   "cell_type": "code",
   "execution_count": null,
   "metadata": {
    "collapsed": false,
    "jupyter": {
     "outputs_hidden": false
    },
    "pycharm": {
     "name": "#%%\n"
    }
   },
   "outputs": [],
   "source": [
    "# training models\n",
    "tr_full = pd.read_parquet('tr.parquet')\n",
    "product_history = pickle.load(open('history.pkl', 'rb'))\n",
    "mode_prices = pickle.load(open('prices.pkl', 'rb'))\n",
    "\n",
    "# different points in time for model validation\n",
    "weeks = [20, 40, 60, 89]\n",
    "window = 4\n",
    "y_hat_tr, y_hat_ts, y_ts, y_tr = {}, {}, {}, {}\n",
    "\n",
    "parameters_rf = {\n",
    "    \"n_estimators\": 100,\n",
    "    \"min_samples_split\": 16,\n",
    "    \"max_leaf_nodes\": 48,\n",
    "    \"max_features\": 0.8,\n",
    "    \"max_depth\": 5,\n",
    "    \"bootstrap\": True,\n",
    "    \"random_state\": 501,\n",
    "}\n",
    "\n",
    "time_start = time.time()\n",
    "for week in weeks:\n",
    "    # train test split\n",
    "    X_train, y_train, X_test, y_test = train_test_split(tr_full, week, window)\n",
    "    dump = (X_train, y_train, X_test, y_test)\n",
    "    pickle.dump(dump, open(f'split_{week}-{window}.pkl', 'wb'))\n",
    "    print(f'[week {week}] Finished train-test-split.')\n",
    "\n",
    "    # logit\n",
    "    logit = sm.Logit(y_train, X_train).fit()\n",
    "    logit_c = sm.Logit(y_train, sm.add_constant(X_train)).fit()\n",
    "    y_hat_tr[f'{week}_logit'] = logit.predict(X_train)\n",
    "    y_hat_ts[f'{week}_logit'] = logit.predict(X_test)\n",
    "    y_hat_tr[f'{week}_logit_c'] = logit_c.predict(sm.add_constant(X_train))\n",
    "    y_hat_ts[f'{week}_logit_c'] = logit_c.predict(sm.add_constant(X_test))\n",
    "    print(f'[week {week}] Finished logit models.')\n",
    "\n",
    "    #rf\n",
    "    random_forest = sklearn.ensemble.RandomForestClassifier(**parameters_rf)\n",
    "    random_forest.fit(X_train, y_train)\n",
    "    y_hat_tr[f'{week}_rf'] = random_forest.predict_proba(X_train)[:, 1]\n",
    "    y_hat_ts[f'{week}_rf'] = random_forest.predict_proba(X_test)[:, 1]\n",
    "    print(f'[week {week}] Finished random forest model.')\n",
    "\n",
    "    #lgbm\n",
    "    lgbm = lightgbm.LGBMClassifier()\n",
    "    lgbm.fit(X_train, y_train)\n",
    "    y_hat_tr[f'{week}_lgbm'] = lgbm.predict_proba(X_train)[:, 1]\n",
    "    y_hat_ts[f'{week}_lgbm'] = lgbm.predict_proba(X_test)[:, 1]\n",
    "    print(f'[week {week}] Finished boosted trees model.')\n",
    "\n",
    "    # store true values\n",
    "    y_ts[week] = y_test\n",
    "    y_tr[week] = y_train\n",
    "\n",
    "    # baselines\n",
    "    y_hat_tr[f'{week}_base-random'] = baseline.uniform(X_train)\n",
    "    y_hat_tr[f'{week}_base-constant_0'] = baseline.constant(X_train, 0)\n",
    "    y_hat_tr[f'{week}_base-constant_1'] = baseline.constant(X_train, 1)\n",
    "\n",
    "    y_hat_ts[f'{week}_base-random'] = baseline.uniform(X_test)\n",
    "    y_hat_ts[f'{week}_base-constant_0'] = baseline.constant(X_test, 0)\n",
    "    y_hat_ts[f'{week}_base-constant_1'] = baseline.constant(X_test, 1)\n",
    "\n",
    "    y_hat_tr[f'{week}_base-mgmt1_freq'] = X_train['product_freq']\n",
    "    y_hat_ts[f'{week}_base-mgmt1_freq'] = X_test['product_freq']\n",
    "\n",
    "    dump = (y_hat_tr, y_hat_ts, y_ts, y_tr)\n",
    "    pickle.dump(dump, open('validation.pkl', 'wb'))\n",
    "    print(f'[week {week}] Finished week {week}.')\n",
    "\n",
    "print(f'[elapsed time] {np.round(time.time() - time_start, 2)/60} min')"
   ]
  },
  {
   "cell_type": "code",
   "execution_count": 18,
   "metadata": {
    "collapsed": false,
    "jupyter": {
     "outputs_hidden": false
    },
    "pycharm": {
     "name": "#%%\n"
    }
   },
   "outputs": [],
   "source": [
    "y_hat_tr, y_hat_ts, y_ts, y_tr = pickle.load(open('validation.pkl', 'rb'))"
   ]
  },
  {
   "cell_type": "code",
   "execution_count": 19,
   "metadata": {
    "collapsed": false,
    "jupyter": {
     "outputs_hidden": false
    },
    "pycharm": {
     "name": "#%%\n"
    }
   },
   "outputs": [],
   "source": [
    "def calculate_scores(weeks, metric, y, y_hat, verbose=1):\n",
    "    scores = {}\n",
    "    metric_name = str(metric)\n",
    "    metric_name = metric_name[metric_name[:metric_name.rfind(' at ')].rfind(' ')+1:metric_name.rfind(' at ')]\n",
    "    print('-'*45) if verbose > 0 else None\n",
    "    for week in weeks:\n",
    "        keys = [key for key in y_hat.keys() if key.startswith(str(week))]\n",
    "        print(f'[week {week}] {metric_name}\\n'+'-'*45) if verbose > 0 else None\n",
    "        for key in keys:\n",
    "            scores[key] = metric(y[week], y_hat[key])\n",
    "            print(f'[{key}] {metric_name}: {scores[key].round(4)}') if verbose > 0 else None\n",
    "        print('-'*45) if verbose > 0 else None\n",
    "    return scores"
   ]
  },
  {
   "cell_type": "code",
   "execution_count": 20,
   "metadata": {
    "collapsed": false,
    "jupyter": {
     "outputs_hidden": false
    },
    "pycharm": {
     "name": "#%%\n"
    }
   },
   "outputs": [
    {
     "name": "stdout",
     "output_type": "stream",
     "text": [
      "---------------------------------------------\n",
      "[week 20] log_loss\n",
      "---------------------------------------------\n",
      "[20_logit] log_loss: 0.0864\n",
      "[20_logit_c] log_loss: 0.086\n",
      "[20_rf] log_loss: 0.0841\n",
      "[20_lgbm] log_loss: 0.0825\n",
      "[20_base-random] log_loss: 1.0005\n",
      "[20_base-constant_0] log_loss: 1.0645\n",
      "[20_base-constant_1] log_loss: 33.4751\n",
      "[20_base-mgmt1_freq] log_loss: 0.1871\n",
      "---------------------------------------------\n",
      "[week 40] log_loss\n",
      "---------------------------------------------\n",
      "[40_logit] log_loss: 0.082\n",
      "[40_logit_c] log_loss: 0.0812\n",
      "[40_rf] log_loss: 0.0791\n",
      "[40_lgbm] log_loss: 0.0778\n",
      "[40_base-random] log_loss: 1.0\n",
      "[40_base-constant_0] log_loss: 1.0576\n",
      "[40_base-constant_1] log_loss: 33.4819\n",
      "[40_base-mgmt1_freq] log_loss: 0.1318\n",
      "---------------------------------------------\n",
      "[week 60] log_loss\n",
      "---------------------------------------------\n",
      "[60_logit] log_loss: 0.0804\n",
      "[60_logit_c] log_loss: 0.0795\n",
      "[60_rf] log_loss: 0.0774\n",
      "[60_lgbm] log_loss: 0.076\n",
      "[60_base-random] log_loss: 0.9995\n",
      "[60_base-constant_0] log_loss: 1.053\n",
      "[60_base-constant_1] log_loss: 33.4866\n",
      "[60_base-mgmt1_freq] log_loss: 0.1134\n",
      "---------------------------------------------\n",
      "[week 89] log_loss\n",
      "---------------------------------------------\n",
      "[89_logit] log_loss: 0.0801\n",
      "[89_logit_c] log_loss: 0.079\n",
      "[89_rf] log_loss: 0.0769\n",
      "[89_lgbm] log_loss: 0.0754\n",
      "[89_base-random] log_loss: 0.9999\n",
      "[89_base-constant_0] log_loss: 1.0613\n",
      "[89_base-constant_1] log_loss: 33.4783\n",
      "[89_base-mgmt1_freq] log_loss: 0.1023\n",
      "---------------------------------------------\n"
     ]
    }
   ],
   "source": [
    "weeks = [20, 40, 60, 89]\n",
    "metric = sklearn.metrics.log_loss\n",
    "\n",
    "scores_tr = calculate_scores(weeks, metric, y_tr, y_hat_tr)"
   ]
  },
  {
   "cell_type": "code",
   "execution_count": 21,
   "metadata": {
    "collapsed": false,
    "jupyter": {
     "outputs_hidden": false
    },
    "pycharm": {
     "name": "#%%\n"
    }
   },
   "outputs": [
    {
     "name": "stdout",
     "output_type": "stream",
     "text": [
      "---------------------------------------------\n",
      "[week 20] log_loss\n",
      "---------------------------------------------\n",
      "[20_logit] log_loss: 0.0851\n",
      "[20_logit_c] log_loss: 0.0847\n",
      "[20_rf] log_loss: 0.0824\n",
      "[20_lgbm] log_loss: 0.0817\n",
      "[20_base-random] log_loss: 1.0005\n",
      "[20_base-constant_0] log_loss: 1.055\n",
      "[20_base-constant_1] log_loss: 33.4845\n",
      "[20_base-mgmt1_freq] log_loss: 0.1714\n",
      "---------------------------------------------\n",
      "[week 40] log_loss\n",
      "---------------------------------------------\n",
      "[40_logit] log_loss: 0.0825\n",
      "[40_logit_c] log_loss: 0.0816\n",
      "[40_rf] log_loss: 0.0793\n",
      "[40_lgbm] log_loss: 0.0788\n",
      "[40_base-random] log_loss: 0.9999\n",
      "[40_base-constant_0] log_loss: 1.0612\n",
      "[40_base-constant_1] log_loss: 33.4783\n",
      "[40_base-mgmt1_freq] log_loss: 0.1271\n",
      "---------------------------------------------\n",
      "[week 60] log_loss\n",
      "---------------------------------------------\n",
      "[60_logit] log_loss: 0.0802\n",
      "[60_logit_c] log_loss: 0.0793\n",
      "[60_rf] log_loss: 0.0768\n",
      "[60_lgbm] log_loss: 0.0763\n",
      "[60_base-random] log_loss: 1.0009\n",
      "[60_base-constant_0] log_loss: 1.0482\n",
      "[60_base-constant_1] log_loss: 33.4914\n",
      "[60_base-mgmt1_freq] log_loss: 0.1094\n",
      "---------------------------------------------\n",
      "[week 89] log_loss\n",
      "---------------------------------------------\n",
      "[89_logit] log_loss: 0.0797\n",
      "[89_logit_c] log_loss: 0.0787\n",
      "[89_rf] log_loss: 0.0764\n",
      "[89_lgbm] log_loss: 0.0758\n",
      "[89_base-random] log_loss: 0.9987\n",
      "[89_base-constant_0] log_loss: 1.0495\n",
      "[89_base-constant_1] log_loss: 33.4901\n",
      "[89_base-mgmt1_freq] log_loss: 0.1003\n",
      "---------------------------------------------\n"
     ]
    }
   ],
   "source": [
    "weeks = [20, 40, 60, 89]\n",
    "metric = sklearn.metrics.log_loss\n",
    "\n",
    "scores_ts = calculate_scores(weeks, metric, y_ts, y_hat_ts)"
   ]
  },
  {
   "cell_type": "code",
   "execution_count": 22,
   "metadata": {
    "collapsed": false,
    "jupyter": {
     "outputs_hidden": false
    },
    "pycharm": {
     "name": "#%%\n"
    }
   },
   "outputs": [],
   "source": [
    "def scores_to_df(scores):\n",
    "    df = pd.DataFrame()\n",
    "    for score in scores:\n",
    "        df.loc[score[:2], score[3:]] = scores[score]\n",
    "    return df"
   ]
  },
  {
   "cell_type": "code",
   "execution_count": 23,
   "metadata": {
    "collapsed": false,
    "jupyter": {
     "outputs_hidden": false
    },
    "pycharm": {
     "name": "#%%\n"
    }
   },
   "outputs": [
    {
     "data": {
      "image/png": "[encoded data removed]",
      "text/plain": [
       "<Figure size 1296x360 with 2 Axes>"
      ]
     },
     "metadata": {
      "needs_background": "light"
     },
     "output_type": "display_data"
    }
   ],
   "source": [
    "scores_df_tr = scores_to_df(scores_tr)\n",
    "scores_df_ts = scores_to_df(scores_ts)\n",
    "\n",
    "fig, axs = plt.subplots(1,2, sharey=True, figsize=(18,5))\n",
    "scores_df_tr.loc[:, scores_df_tr.columns != 'base-constant_1'].plot(ax=axs[0]);\n",
    "scores_df_ts.loc[:, scores_df_ts.columns != 'base-constant_1'].plot(ax=axs[1]);\n",
    "axs[0].set(title='train scores', xlabel='week', ylabel='log-loss')\n",
    "axs[1].set(title='train scores', xlabel='week');"
   ]
  },
  {
   "cell_type": "markdown",
   "metadata": {
    "pycharm": {
     "name": "#%% md\n"
    }
   },
   "source": [
    "\n",
    "\n",
    "\n",
    "\n",
    "## **4. Predicting Week 90**"
   ]
  },
  {
   "cell_type": "code",
   "execution_count": 24,
   "metadata": {
    "collapsed": false,
    "jupyter": {
     "outputs_hidden": false
    },
    "pycharm": {
     "name": "#%%\n"
    }
   },
   "outputs": [],
   "source": [
    "def get_ts(week):\n",
    "    import itertools\n",
    "    week = [week] if type(week) != list else week\n",
    "\n",
    "    product = list(range(250))\n",
    "    shopper = list(range(2000))\n",
    "    ts = pd.DataFrame(itertools.product(shopper, week, product))\n",
    "    ts.rename(columns={0:'shopper', 1:'week', 2:'product'}, inplace=True)\n",
    "    ts['price'] = ts['discount'] = ts['purchased'] = ts['coupon'] = None\n",
    "\n",
    "    return ts"
   ]
  },
  {
   "cell_type": "code",
   "execution_count": null,
   "metadata": {
    "collapsed": false,
    "jupyter": {
     "outputs_hidden": false
    },
    "pycharm": {
     "name": "#%%\n"
    }
   },
   "outputs": [],
   "source": [
    "# train-test-split\n",
    "week = 90\n",
    "window = 4\n",
    "tr_full = pd.read_parquet('tr.parquet').append(get_ts(90), ignore_index=True)\n",
    "product_history = pickle.load(open('history.pkl', 'rb'))\n",
    "mode_prices = pickle.load(open('prices.pkl', 'rb'))\n",
    "\n",
    "X_train, y_train, X_test, y_test = train_test_split(tr_full, week, window)\n",
    "dump = (X_train, y_train, X_test, y_test)\n",
    "pickle.dump(dump, open(f'split_{week}-{window}.pkl', 'wb'))"
   ]
  },
  {
   "cell_type": "code",
   "execution_count": 25,
   "metadata": {
    "collapsed": false,
    "jupyter": {
     "outputs_hidden": false
    },
    "pycharm": {
     "name": "#%%\n"
    }
   },
   "outputs": [],
   "source": [
    "X_train, y_train, X_test, y_test = pickle.load(open('split_90-4.pkl', 'rb'))"
   ]
  },
  {
   "cell_type": "code",
   "execution_count": 26,
   "metadata": {
    "collapsed": false,
    "jupyter": {
     "outputs_hidden": false
    },
    "pycharm": {
     "name": "#%%\n"
    }
   },
   "outputs": [],
   "source": [
    "# training the model\n",
    "lgbm = lightgbm.LGBMClassifier()\n",
    "lgbm.fit(X_train, y_train.astype('int32'))\n",
    "y_hat_tr = lgbm.predict_proba(X_train)[:, 1]\n",
    "y_hat_ts = lgbm.predict_proba(X_test)[:, 1]"
   ]
  },
  {
   "cell_type": "code",
   "execution_count": 27,
   "metadata": {
    "collapsed": false,
    "jupyter": {
     "outputs_hidden": false
    },
    "pycharm": {
     "name": "#%%\n"
    }
   },
   "outputs": [
    {
     "data": {
      "text/html": [
       "<div>\n",
       "<style scoped>\n",
       "    .dataframe tbody tr th:only-of-type {\n",
       "        vertical-align: middle;\n",
       "    }\n",
       "\n",
       "    .dataframe tbody tr th {\n",
       "        vertical-align: top;\n",
       "    }\n",
       "\n",
       "    .dataframe thead th {\n",
       "        text-align: right;\n",
       "    }\n",
       "</style>\n",
       "<table border=\"1\" class=\"dataframe\">\n",
       "  <thead>\n",
       "    <tr style=\"text-align: right;\">\n",
       "      <th></th>\n",
       "      <th>0</th>\n",
       "    </tr>\n",
       "  </thead>\n",
       "  <tbody>\n",
       "    <tr>\n",
       "      <th>count</th>\n",
       "      <td>2000000.00</td>\n",
       "    </tr>\n",
       "    <tr>\n",
       "      <th>mean</th>\n",
       "      <td>0.03</td>\n",
       "    </tr>\n",
       "    <tr>\n",
       "      <th>std</th>\n",
       "      <td>0.09</td>\n",
       "    </tr>\n",
       "    <tr>\n",
       "      <th>min</th>\n",
       "      <td>0.00</td>\n",
       "    </tr>\n",
       "    <tr>\n",
       "      <th>25%</th>\n",
       "      <td>0.00</td>\n",
       "    </tr>\n",
       "    <tr>\n",
       "      <th>50%</th>\n",
       "      <td>0.00</td>\n",
       "    </tr>\n",
       "    <tr>\n",
       "      <th>75%</th>\n",
       "      <td>0.01</td>\n",
       "    </tr>\n",
       "    <tr>\n",
       "      <th>max</th>\n",
       "      <td>1.00</td>\n",
       "    </tr>\n",
       "  </tbody>\n",
       "</table>\n",
       "</div>"
      ],
      "text/plain": [
       "                0\n",
       "count  2000000.00\n",
       "mean         0.03\n",
       "std          0.09\n",
       "min          0.00\n",
       "25%          0.00\n",
       "50%          0.00\n",
       "75%          0.01\n",
       "max          1.00"
      ]
     },
     "execution_count": 27,
     "metadata": {},
     "output_type": "execute_result"
    }
   ],
   "source": [
    "pd.DataFrame(y_hat_tr).describe().round(2)"
   ]
  },
  {
   "cell_type": "code",
   "execution_count": 28,
   "metadata": {
    "collapsed": false,
    "jupyter": {
     "outputs_hidden": false
    },
    "pycharm": {
     "name": "#%%\n"
    }
   },
   "outputs": [
    {
     "data": {
      "text/html": [
       "<div>\n",
       "<style scoped>\n",
       "    .dataframe tbody tr th:only-of-type {\n",
       "        vertical-align: middle;\n",
       "    }\n",
       "\n",
       "    .dataframe tbody tr th {\n",
       "        vertical-align: top;\n",
       "    }\n",
       "\n",
       "    .dataframe thead th {\n",
       "        text-align: right;\n",
       "    }\n",
       "</style>\n",
       "<table border=\"1\" class=\"dataframe\">\n",
       "  <thead>\n",
       "    <tr style=\"text-align: right;\">\n",
       "      <th></th>\n",
       "      <th>0</th>\n",
       "    </tr>\n",
       "  </thead>\n",
       "  <tbody>\n",
       "    <tr>\n",
       "      <th>count</th>\n",
       "      <td>500000.00</td>\n",
       "    </tr>\n",
       "    <tr>\n",
       "      <th>mean</th>\n",
       "      <td>0.03</td>\n",
       "    </tr>\n",
       "    <tr>\n",
       "      <th>std</th>\n",
       "      <td>0.09</td>\n",
       "    </tr>\n",
       "    <tr>\n",
       "      <th>min</th>\n",
       "      <td>0.00</td>\n",
       "    </tr>\n",
       "    <tr>\n",
       "      <th>25%</th>\n",
       "      <td>0.00</td>\n",
       "    </tr>\n",
       "    <tr>\n",
       "      <th>50%</th>\n",
       "      <td>0.00</td>\n",
       "    </tr>\n",
       "    <tr>\n",
       "      <th>75%</th>\n",
       "      <td>0.01</td>\n",
       "    </tr>\n",
       "    <tr>\n",
       "      <th>max</th>\n",
       "      <td>0.95</td>\n",
       "    </tr>\n",
       "  </tbody>\n",
       "</table>\n",
       "</div>"
      ],
      "text/plain": [
       "               0\n",
       "count  500000.00\n",
       "mean        0.03\n",
       "std         0.09\n",
       "min         0.00\n",
       "25%         0.00\n",
       "50%         0.00\n",
       "75%         0.01\n",
       "max         0.95"
      ]
     },
     "execution_count": 28,
     "metadata": {},
     "output_type": "execute_result"
    }
   ],
   "source": [
    "pd.DataFrame(y_hat_ts).describe().round(2)"
   ]
  },
  {
   "cell_type": "code",
   "execution_count": 29,
   "metadata": {
    "collapsed": false,
    "jupyter": {
     "outputs_hidden": false
    },
    "pycharm": {
     "name": "#%%\n"
    }
   },
   "outputs": [
    {
     "data": {
      "text/plain": [
       "0.07528866371849845"
      ]
     },
     "execution_count": 29,
     "metadata": {},
     "output_type": "execute_result"
    }
   ],
   "source": [
    "# train score\n",
    "sklearn.metrics.log_loss(y_train.astype('int32'), y_hat_tr)"
   ]
  },
  {
   "cell_type": "code",
   "execution_count": 30,
   "metadata": {
    "collapsed": false,
    "jupyter": {
     "outputs_hidden": false
    },
    "pycharm": {
     "name": "#%%\n"
    }
   },
   "outputs": [
    {
     "data": {
      "text/html": [
       "<div>\n",
       "<style scoped>\n",
       "    .dataframe tbody tr th:only-of-type {\n",
       "        vertical-align: middle;\n",
       "    }\n",
       "\n",
       "    .dataframe tbody tr th {\n",
       "        vertical-align: top;\n",
       "    }\n",
       "\n",
       "    .dataframe thead th {\n",
       "        text-align: right;\n",
       "    }\n",
       "</style>\n",
       "<table border=\"1\" class=\"dataframe\">\n",
       "  <thead>\n",
       "    <tr style=\"text-align: right;\">\n",
       "      <th></th>\n",
       "      <th>shopper</th>\n",
       "      <th>week</th>\n",
       "      <th>product</th>\n",
       "      <th>yhat</th>\n",
       "    </tr>\n",
       "  </thead>\n",
       "  <tbody>\n",
       "    <tr>\n",
       "      <th>0</th>\n",
       "      <td>0</td>\n",
       "      <td>90</td>\n",
       "      <td>0</td>\n",
       "      <td>0.001085</td>\n",
       "    </tr>\n",
       "    <tr>\n",
       "      <th>1</th>\n",
       "      <td>0</td>\n",
       "      <td>90</td>\n",
       "      <td>1</td>\n",
       "      <td>0.001383</td>\n",
       "    </tr>\n",
       "    <tr>\n",
       "      <th>2</th>\n",
       "      <td>0</td>\n",
       "      <td>90</td>\n",
       "      <td>2</td>\n",
       "      <td>0.001085</td>\n",
       "    </tr>\n",
       "    <tr>\n",
       "      <th>3</th>\n",
       "      <td>0</td>\n",
       "      <td>90</td>\n",
       "      <td>3</td>\n",
       "      <td>0.001052</td>\n",
       "    </tr>\n",
       "    <tr>\n",
       "      <th>4</th>\n",
       "      <td>0</td>\n",
       "      <td>90</td>\n",
       "      <td>4</td>\n",
       "      <td>0.095588</td>\n",
       "    </tr>\n",
       "    <tr>\n",
       "      <th>...</th>\n",
       "      <td>...</td>\n",
       "      <td>...</td>\n",
       "      <td>...</td>\n",
       "      <td>...</td>\n",
       "    </tr>\n",
       "    <tr>\n",
       "      <th>499995</th>\n",
       "      <td>1999</td>\n",
       "      <td>90</td>\n",
       "      <td>245</td>\n",
       "      <td>0.128733</td>\n",
       "    </tr>\n",
       "    <tr>\n",
       "      <th>499996</th>\n",
       "      <td>1999</td>\n",
       "      <td>90</td>\n",
       "      <td>246</td>\n",
       "      <td>0.001243</td>\n",
       "    </tr>\n",
       "    <tr>\n",
       "      <th>499997</th>\n",
       "      <td>1999</td>\n",
       "      <td>90</td>\n",
       "      <td>247</td>\n",
       "      <td>0.000484</td>\n",
       "    </tr>\n",
       "    <tr>\n",
       "      <th>499998</th>\n",
       "      <td>1999</td>\n",
       "      <td>90</td>\n",
       "      <td>248</td>\n",
       "      <td>0.001831</td>\n",
       "    </tr>\n",
       "    <tr>\n",
       "      <th>499999</th>\n",
       "      <td>1999</td>\n",
       "      <td>90</td>\n",
       "      <td>249</td>\n",
       "      <td>0.109108</td>\n",
       "    </tr>\n",
       "  </tbody>\n",
       "</table>\n",
       "<p>500000 rows × 4 columns</p>\n",
       "</div>"
      ],
      "text/plain": [
       "        shopper  week  product      yhat\n",
       "0             0    90        0  0.001085\n",
       "1             0    90        1  0.001383\n",
       "2             0    90        2  0.001085\n",
       "3             0    90        3  0.001052\n",
       "4             0    90        4  0.095588\n",
       "...         ...   ...      ...       ...\n",
       "499995     1999    90      245  0.128733\n",
       "499996     1999    90      246  0.001243\n",
       "499997     1999    90      247  0.000484\n",
       "499998     1999    90      248  0.001831\n",
       "499999     1999    90      249  0.109108\n",
       "\n",
       "[500000 rows x 4 columns]"
      ]
     },
     "execution_count": 30,
     "metadata": {},
     "output_type": "execute_result"
    }
   ],
   "source": [
    "preds = get_ts(90)\n",
    "preds['yhat'] = y_hat_ts\n",
    "preds = preds[['shopper', 'week', 'product', 'yhat']]\n",
    "preds"
   ]
  },
  {
   "cell_type": "code",
   "execution_count": 31,
   "metadata": {
    "collapsed": false,
    "jupyter": {
     "outputs_hidden": false
    },
    "pycharm": {
     "name": "#%%\n"
    }
   },
   "outputs": [],
   "source": [
    "preds.to_parquet('e03-$2.parquet')"
   ]
  }
 ],
 "metadata": {
  "kernelspec": {
   "display_name": "mlim",
   "language": "python",
   "name": "mlim"
  },
  "language_info": {
   "codemirror_mode": {
    "name": "ipython",
    "version": 3
   },
   "file_extension": ".py",
   "mimetype": "text/x-python",
   "name": "python",
   "nbconvert_exporter": "python",
   "pygments_lexer": "ipython3",
   "version": "3.8.5"
  }
 },
 "nbformat": 4,
 "nbformat_minor": 4
}
