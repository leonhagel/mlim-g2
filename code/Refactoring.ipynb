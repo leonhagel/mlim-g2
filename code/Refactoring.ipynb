{
 "cells": [
  {
   "cell_type": "code",
   "execution_count": 166,
   "id": "equivalent-arena",
   "metadata": {},
   "outputs": [],
   "source": [
    "import os\n",
    "\n",
    "import numpy as np\n",
    "import pandas as pd"
   ]
  },
  {
   "cell_type": "code",
   "execution_count": 171,
   "id": "referenced-suspension",
   "metadata": {},
   "outputs": [],
   "source": [
    "DATA_PATH = '../data/'\n",
    "EXPORT_PATH = '/export/'\n",
    "\n",
    "files = {\n",
    "    'data': [\n",
    "        DATA_PATH + 'baskets.parquet',\n",
    "        DATA_PATH + 'coupon_index.parquet', \n",
    "        DATA_PATH + 'coupons.parquet',\n",
    "        #DATA_PATH + 'prepare.parquet'\n",
    "   ]\n",
    "}"
   ]
  },
  {
   "cell_type": "code",
   "execution_count": 177,
   "id": "desperate-impact",
   "metadata": {},
   "outputs": [],
   "source": [
    "# todo: rename to Utils and break inheritance\n",
    "class Helper:\n",
    "    \"\"\"\n",
    "    Expose utility methods\n",
    "    \"\"\"\n",
    "\n",
    "    def __init__(self):\n",
    "        \"\"\"\n",
    "        Attributes:\n",
    "            data: (dict) contains the loaded data sets\n",
    "            mappings: (dict) todo: what kind of mappings?\n",
    "        \"\"\"\n",
    "        self.data = {}\n",
    "        self.mappings = {}\n",
    "\n",
    "    # read files (data/exports) from disk\n",
    "    # ----------------------------------------------------------------------------------\n",
    "    def load(self, files: dict):\n",
    "        for key, paths in files.items():\n",
    "            print(key, paths)\n",
    "            for path in paths:\n",
    "                name_and_extension = os.path.basename(path)\n",
    "                name = os.path.splitext(name_and_extension)[0]\n",
    "                self[key][name] = pd.read_parquet(path)\n",
    "        \"\"\"\n",
    "        use:\n",
    "            - load files from the files-dictionary and store at correct location\n",
    "        inputs:\n",
    "            - files: dict\n",
    "                - key: str -> location/attribute where the data should be stored\n",
    "                  (e.g. data, mapping)\n",
    "                - value: list or str --> filepath or list of filepaths\n",
    "\n",
    "        return: None\n",
    "        \"\"\"\n",
    "    # convenience functions\n",
    "    # ----------------------------------------------------------------------------------\n",
    "    def __getitem__(self, item):\n",
    "        \"\"\"\n",
    "        use:\n",
    "            - dict-like behaviour: self['item'] <-> self.item\n",
    "            - allows to get attributes using a str\n",
    "        \"\"\"\n",
    "        return eval(f\"self.{item}\")\n",
    "\n",
    "    def __setitem__(self, item, value):\n",
    "        \"\"\"\n",
    "        use:\n",
    "            - dict-like behaviour: self['item'] = value <-> self.item = value\n",
    "            - allows to set attribute values using a str\n",
    "        \"\"\"\n",
    "        exec(f\"self.{item} = value\")\n",
    "\n",
    "    def _format_time(self, seconds):\n",
    "        \"\"\"\n",
    "        use:\n",
    "            - formats seconds into str time-format: 'mm:ss'\n",
    "        \"\"\"\n",
    "        return \"{:02.0f}\".format(seconds // 60) + \":\" + \"{:02.0f}\".format(seconds % 60)"
   ]
  },
  {
   "cell_type": "code",
   "execution_count": 179,
   "id": "square-karen",
   "metadata": {},
   "outputs": [
    {
     "name": "stdout",
     "output_type": "stream",
     "text": [
      "data ['../data/baskets.parquet', '../data/coupon_index.parquet', '../data/coupons.parquet']\n"
     ]
    },
    {
     "data": {
      "text/plain": [
       "{'baskets':           week  shopper  product  price\n",
       " 0            0        0       71    629\n",
       " 1            0        0       91    605\n",
       " 2            0        0      116    715\n",
       " 3            0        0      123    483\n",
       " 4            0        0      157    592\n",
       " ...        ...      ...      ...    ...\n",
       " 68841593    89    99999      143    470\n",
       " 68841594    89    99999      158    566\n",
       " 68841595    89    99999      186    499\n",
       " 68841596    89    99999      204    496\n",
       " 68841597    89    99999      225    602\n",
       " \n",
       " [68841598 rows x 4 columns],\n",
       " 'coupon_index':       week  shopper  coupon\n",
       " 0       90        0       0\n",
       " 2000    90        0       1\n",
       " 4000    90        0       2\n",
       " 6000    90        0       3\n",
       " 8000    90        0       4\n",
       " ...    ...      ...     ...\n",
       " 1999    90     1999       0\n",
       " 3999    90     1999       1\n",
       " 5999    90     1999       2\n",
       " 7999    90     1999       3\n",
       " 9999    90     1999       4\n",
       " \n",
       " [10000 rows x 3 columns],\n",
       " 'coupons':           week  shopper  product  discount\n",
       " 0            0        0       35        35\n",
       " 1            0        0      193        40\n",
       " 2            0        0       27        30\n",
       " 3            0        0      177        35\n",
       " 4            0        0        5        30\n",
       " ...        ...      ...      ...       ...\n",
       " 44999995    89    99999       62        40\n",
       " 44999996    89    99999      110        10\n",
       " 44999997    89    99999       37        40\n",
       " 44999998    89    99999      155        25\n",
       " 44999999    89    99999      132        10\n",
       " \n",
       " [45000000 rows x 4 columns]}"
      ]
     },
     "execution_count": 179,
     "metadata": {},
     "output_type": "execute_result"
    }
   ],
   "source": [
    "myHelper = Helper()\n",
    "myHelper.load(files)\n",
    "myHelper.data"
   ]
  },
  {
   "cell_type": "code",
   "execution_count": null,
   "id": "further-color",
   "metadata": {},
   "outputs": [],
   "source": []
  },
  {
   "cell_type": "code",
   "execution_count": null,
   "id": "sixth-sauce",
   "metadata": {},
   "outputs": [],
   "source": []
  }
 ],
 "metadata": {
  "kernelspec": {
   "display_name": "mlim-g2",
   "language": "python",
   "name": "mlim-g2"
  },
  "language_info": {
   "codemirror_mode": {
    "name": "ipython",
    "version": 3
   },
   "file_extension": ".py",
   "mimetype": "text/x-python",
   "name": "python",
   "nbconvert_exporter": "python",
   "pygments_lexer": "ipython3",
   "version": "3.8.8"
  }
 },
 "nbformat": 4,
 "nbformat_minor": 5
}
