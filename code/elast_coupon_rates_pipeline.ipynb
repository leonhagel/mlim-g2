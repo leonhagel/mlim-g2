{
 "cells": [
  {
   "cell_type": "code",
   "execution_count": 1,
   "metadata": {},
   "outputs": [],
   "source": [
    "from Pipeline import Helper, Purchase_Probabilities\n",
    "import pandas as pd"
   ]
  },
  {
   "cell_type": "code",
   "execution_count": 19,
   "metadata": {},
   "outputs": [],
   "source": [
    "DATA_PATH   =   r'C:\\Users\\Benedikt\\Documents\\GitHub\\mlim-g2\\data'\n",
    "\n",
    "EXPORT_PATH = r'C:\\Users\\Benedikt\\Documents\\GitHub\\mlim-g2\\data\\export'\n",
    "\n",
    "files = {\n",
    "    'data': [\n",
    "        #DATA_PATH + 'baskets.parquet',\n",
    "        #DATA_PATH + 'coupon_index.parquet', \n",
    "        #DATA_PATH + 'coupons.parquet', \n",
    "        #DATA_PATH + '\\merged.parquet',\n",
    "        DATA_PATH + '\\clean.parquet', \n",
    "        #DATA_PATH + 'prepare.parquet'\n",
    "    ]}"
   ]
  },
  {
   "cell_type": "code",
   "execution_count": 27,
   "metadata": {},
   "outputs": [
    {
     "data": {
      "text/plain": [
       "1"
      ]
     },
     "execution_count": 27,
     "metadata": {},
     "output_type": "execute_result"
    }
   ],
   "source": [
    "eins = (1, 0)\n",
    "eins[0]"
   ]
  },
  {
   "cell_type": "code",
   "execution_count": 20,
   "metadata": {},
   "outputs": [],
   "source": [
    "class Elasticities(Helper):\n",
    "    \n",
    "    \"\"\"calculate price elasticities\n",
    "        input: basket df with variables 'product'(int), 'discount'(int/float), 'price'(int/float) (nan substituted with zero)\n",
    "        output: basket df with 'elasticity' added for every product   \n",
    "    \"\"\"\n",
    "    \n",
    "    def __init__(self):\n",
    "        super().__init__() \n",
    "        self.elast = None\n",
    "    \n",
    "    \n",
    "    \n",
    "    def calc_week_elastics(self, week, shopper):\n",
    "        elast = []\n",
    "        week_basket_count = (abs(shopper[0] - shopper[1]) + 1) * abs(week[0] - week[1])\n",
    "        \n",
    "        \n",
    "        output = basket[(week[1] >= basket['week']) & (basket['week'] >= week[0])]      ##full input or decreased size?\n",
    "       \n",
    "\n",
    "        for i in range(250):\n",
    "            reg_price = output[output['product'] == i]\n",
    "            reg_price_buy = len(reg_price[reg_price['discount'] == 0])\n",
    "            all_discounts_offers = len(reg_price[reg_price['discount'] > 0])\n",
    "            reg_price_offer = total_basket_count - all_discounts_offers\n",
    "            reg_price_buy_rate = reg_price_buy / reg_price_offer\n",
    "            discount_30 = reg_price[reg_price['discount'] == 30]          ##check if discount is listed as 30 or 0.3 \n",
    "            discount_30_offer = len(discount_30)\n",
    "            discount_30_buy = (discount_30['price'] != 0).sum()\n",
    "            discount_30_buy_rate = discount_30_buy / discount_30_offer\n",
    "            elast.append((discount_30_buy_rate - reg_price_buy_rate) / (0.3 * reg_price_buy_rate))\n",
    "\n",
    "        elast = pd.DataFrame(elast)\n",
    "        elast['product'] = elast.index\n",
    "        output = basket_temp.merge(elast, how = 'left')\n",
    "        output = output.rename(columns = {0 : 'elasticity'})\n",
    "\n",
    "        return output\n",
    "    \n",
    "    \n",
    "    \n",
    "    \n",
    "    \n",
    "    \n",
    "    \n",
    "class Redemptions(Helper):\n",
    "    \n",
    "    \n",
    "    \"\"\"calculate product and costumer specific coupon redemption likelihoods\n",
    "        input: basket df with variables 'discount'(int/float), 'price'(int/float), 'product'(int), 'shopper'(int)\n",
    "        output: basket df with 'product_redemption_likelihood', 'shopper_product_discount_usage', 'discount_buy' added\n",
    "    \n",
    "    \"\"\"\n",
    "    \n",
    "    \n",
    "    def __init__(self):\n",
    "        super().__init__()\n",
    "        \n",
    "    def calc_coupon_rates(self,  week):\n",
    "        \n",
    "        basket_temp = basket[(week[1] >= basket['week']) & (basket['week'] >= week[0])]\n",
    "\n",
    "        # coupon redemption likelihood by product\n",
    "        coupons = basket_temp[basket_temp['discount'] > 0].copy()\n",
    "        coupons.loc[(coupons['price'] != 0), 'redeemed']  = 1\n",
    "        coupons['redeemed'] = coupons['redeemed'].fillna(0)\n",
    "\n",
    "        redemption_rate = coupons.groupby(['product'])['redeemed'].mean()\n",
    "        basket_temp = basket_temp.merge(redemption_rate, how = 'left', on = 'product')\n",
    "        basket_temp = basket_temp.rename(columns = {'redeemed' : 'product_redemption_likelihood'})\n",
    "\n",
    "\n",
    "        # coupon redemption likelihood by costumer & product\n",
    "        costumer_redemption_rate = coupons.groupby(['shopper', 'product'])['redeemed'].mean()\n",
    "        basket_temp = basket_temp.merge(costumer_redemption_rate, how = 'left', on = ['shopper', 'product'])\n",
    "        basket_temp = basket_temp.rename(columns = {'redeemed' : 'shopper_product_discount_usage'})\n",
    "\n",
    "\n",
    "        # only buy because of discount?\n",
    "        buy_all = basket_temp.groupby(['shopper', 'product']).size()\n",
    "        discount = coupons.groupby(['shopper', 'product']).size()\n",
    "        discount_buy = discount / buy_all\n",
    "        discount_buy = discount_buy.fillna(0)\n",
    "        discount_buy = discount_buy.rename('discount_buy')\n",
    "        basket_temp = basket_temp.merge(discount_buy, how = 'left', on = ['shopper', 'product'])\n",
    "\n",
    "        return basket_temp"
   ]
  },
  {
   "cell_type": "code",
   "execution_count": 21,
   "metadata": {},
   "outputs": [],
   "source": [
    "elastics = Purchase_Probabilities()"
   ]
  },
  {
   "cell_type": "code",
   "execution_count": 22,
   "metadata": {},
   "outputs": [],
   "source": [
    "elastics.load(files)"
   ]
  },
  {
   "cell_type": "code",
   "execution_count": 24,
   "metadata": {},
   "outputs": [
    {
     "ename": "AttributeError",
     "evalue": "'Purchase_Probabilities' object has no attribute 'describe'",
     "output_type": "error",
     "traceback": [
      "\u001b[1;31m---------------------------------------------------------------------------\u001b[0m",
      "\u001b[1;31mAttributeError\u001b[0m                            Traceback (most recent call last)",
      "\u001b[1;32m<ipython-input-24-ca16851be4df>\u001b[0m in \u001b[0;36m<module>\u001b[1;34m\u001b[0m\n\u001b[1;32m----> 1\u001b[1;33m \u001b[0melastics\u001b[0m\u001b[1;33m.\u001b[0m\u001b[0mdescribe\u001b[0m\u001b[1;33m(\u001b[0m\u001b[1;33m)\u001b[0m\u001b[1;33m\u001b[0m\u001b[1;33m\u001b[0m\u001b[0m\n\u001b[0m",
      "\u001b[1;31mAttributeError\u001b[0m: 'Purchase_Probabilities' object has no attribute 'describe'"
     ]
    }
   ],
   "source": [
    "elastics.describe()"
   ]
  },
  {
   "cell_type": "code",
   "execution_count": 23,
   "metadata": {},
   "outputs": [
    {
     "ename": "KeyError",
     "evalue": "'coupons'",
     "output_type": "error",
     "traceback": [
      "\u001b[1;31m---------------------------------------------------------------------------\u001b[0m",
      "\u001b[1;31mKeyError\u001b[0m                                  Traceback (most recent call last)",
      "\u001b[1;32m<ipython-input-23-5f34b9017588>\u001b[0m in \u001b[0;36m<module>\u001b[1;34m\u001b[0m\n\u001b[1;32m----> 1\u001b[1;33m \u001b[0melastics\u001b[0m\u001b[1;33m.\u001b[0m\u001b[0mget_merged\u001b[0m\u001b[1;33m(\u001b[0m\u001b[1;33m)\u001b[0m\u001b[1;33m\u001b[0m\u001b[1;33m\u001b[0m\u001b[0m\n\u001b[0m",
      "\u001b[1;32m~\\Documents\\GitHub\\mlim-g2\\code\\Pipeline.py\u001b[0m in \u001b[0;36mget_merged\u001b[1;34m(self, drop)\u001b[0m\n\u001b[0;32m     78\u001b[0m     \u001b[1;31m# data preparation\u001b[0m\u001b[1;33m\u001b[0m\u001b[1;33m\u001b[0m\u001b[1;33m\u001b[0m\u001b[0m\n\u001b[0;32m     79\u001b[0m     \u001b[1;32mdef\u001b[0m \u001b[0mget_merged\u001b[0m\u001b[1;33m(\u001b[0m\u001b[0mself\u001b[0m\u001b[1;33m,\u001b[0m \u001b[0mdrop\u001b[0m\u001b[1;33m=\u001b[0m\u001b[1;32mFalse\u001b[0m\u001b[1;33m)\u001b[0m\u001b[1;33m:\u001b[0m\u001b[1;33m\u001b[0m\u001b[1;33m\u001b[0m\u001b[0m\n\u001b[1;32m---> 80\u001b[1;33m         \u001b[0msimilar\u001b[0m \u001b[1;33m=\u001b[0m \u001b[1;33m[\u001b[0m\u001b[0mx\u001b[0m \u001b[1;32mfor\u001b[0m \u001b[0mx\u001b[0m \u001b[1;32min\u001b[0m \u001b[0mself\u001b[0m\u001b[1;33m.\u001b[0m\u001b[0mdata\u001b[0m\u001b[1;33m[\u001b[0m\u001b[1;34m'coupons'\u001b[0m\u001b[1;33m]\u001b[0m\u001b[1;33m.\u001b[0m\u001b[0mcolumns\u001b[0m \u001b[1;32mif\u001b[0m \u001b[0mx\u001b[0m \u001b[1;32min\u001b[0m \u001b[0mself\u001b[0m\u001b[1;33m.\u001b[0m\u001b[0mdata\u001b[0m\u001b[1;33m[\u001b[0m\u001b[1;34m'baskets'\u001b[0m\u001b[1;33m]\u001b[0m\u001b[1;33m.\u001b[0m\u001b[0mcolumns\u001b[0m\u001b[1;33m]\u001b[0m \u001b[1;31m# i.e. ['shopper', 'product', 'week']\u001b[0m\u001b[1;33m\u001b[0m\u001b[1;33m\u001b[0m\u001b[0m\n\u001b[0m\u001b[0;32m     81\u001b[0m         \u001b[0mself\u001b[0m\u001b[1;33m.\u001b[0m\u001b[0mdata\u001b[0m\u001b[1;33m[\u001b[0m\u001b[1;34m'merged'\u001b[0m\u001b[1;33m]\u001b[0m \u001b[1;33m=\u001b[0m \u001b[0mself\u001b[0m\u001b[1;33m.\u001b[0m\u001b[0mdata\u001b[0m\u001b[1;33m[\u001b[0m\u001b[1;34m'baskets'\u001b[0m\u001b[1;33m]\u001b[0m\u001b[1;33m.\u001b[0m\u001b[0mmerge\u001b[0m\u001b[1;33m(\u001b[0m\u001b[0mself\u001b[0m\u001b[1;33m.\u001b[0m\u001b[0mdata\u001b[0m\u001b[1;33m[\u001b[0m\u001b[1;34m'coupons'\u001b[0m\u001b[1;33m]\u001b[0m\u001b[1;33m,\u001b[0m \u001b[0mhow\u001b[0m\u001b[1;33m=\u001b[0m\u001b[1;34m'outer'\u001b[0m\u001b[1;33m,\u001b[0m \u001b[0mleft_on\u001b[0m\u001b[1;33m=\u001b[0m\u001b[0msimilar\u001b[0m\u001b[1;33m,\u001b[0m \u001b[0mright_on\u001b[0m\u001b[1;33m=\u001b[0m\u001b[0msimilar\u001b[0m\u001b[1;33m)\u001b[0m\u001b[1;33m\u001b[0m\u001b[1;33m\u001b[0m\u001b[0m\n\u001b[0;32m     82\u001b[0m         \u001b[1;32mif\u001b[0m \u001b[0mdrop\u001b[0m\u001b[1;33m:\u001b[0m\u001b[1;33m\u001b[0m\u001b[1;33m\u001b[0m\u001b[0m\n",
      "\u001b[1;31mKeyError\u001b[0m: 'coupons'"
     ]
    }
   ],
   "source": [
    "elastics.get_merged()"
   ]
  },
  {
   "cell_type": "code",
   "execution_count": 18,
   "metadata": {},
   "outputs": [
    {
     "ename": "KeyError",
     "evalue": "'/clean.parquet'",
     "output_type": "error",
     "traceback": [
      "\u001b[1;31m---------------------------------------------------------------------------\u001b[0m",
      "\u001b[1;31mKeyError\u001b[0m                                  Traceback (most recent call last)",
      "\u001b[1;32m<ipython-input-18-72ac8e200d41>\u001b[0m in \u001b[0;36m<module>\u001b[1;34m\u001b[0m\n\u001b[1;32m----> 1\u001b[1;33m \u001b[0melastics\u001b[0m\u001b[1;33m.\u001b[0m\u001b[0mprepare\u001b[0m\u001b[1;33m(\u001b[0m\u001b[0mdf\u001b[0m\u001b[1;33m=\u001b[0m\u001b[1;34m'/clean.parquet'\u001b[0m\u001b[1;33m,\u001b[0m \u001b[0mshopper\u001b[0m\u001b[1;33m=\u001b[0m\u001b[1;33m(\u001b[0m\u001b[1;36m0\u001b[0m\u001b[1;33m,\u001b[0m\u001b[1;36m100\u001b[0m\u001b[1;33m)\u001b[0m\u001b[1;33m,\u001b[0m \u001b[0mweek\u001b[0m\u001b[1;33m=\u001b[0m\u001b[1;33m(\u001b[0m\u001b[1;36m0\u001b[0m\u001b[1;33m,\u001b[0m\u001b[1;36m10\u001b[0m\u001b[1;33m)\u001b[0m\u001b[1;33m,\u001b[0m \u001b[0mproduct\u001b[0m\u001b[1;33m=\u001b[0m\u001b[1;33m(\u001b[0m\u001b[1;36m0\u001b[0m\u001b[1;33m,\u001b[0m\u001b[1;36m249\u001b[0m\u001b[1;33m)\u001b[0m\u001b[1;33m,\u001b[0m \u001b[0mprice_aggregation_fn\u001b[0m\u001b[1;33m=\u001b[0m\u001b[1;34m'mode'\u001b[0m\u001b[1;33m)\u001b[0m\u001b[1;33m\u001b[0m\u001b[1;33m\u001b[0m\u001b[0m\n\u001b[0m",
      "\u001b[1;32m~\\Documents\\GitHub\\mlim-g2\\code\\Pipeline.py\u001b[0m in \u001b[0;36mprepare\u001b[1;34m(self, df, shopper, week, product, price_aggregation_fn)\u001b[0m\n\u001b[0;32m    206\u001b[0m         \u001b[0mstart\u001b[0m \u001b[1;33m=\u001b[0m \u001b[0mtime\u001b[0m\u001b[1;33m.\u001b[0m\u001b[0mtime\u001b[0m\u001b[1;33m(\u001b[0m\u001b[1;33m)\u001b[0m\u001b[1;33m\u001b[0m\u001b[1;33m\u001b[0m\u001b[0m\n\u001b[0;32m    207\u001b[0m         \u001b[1;32mif\u001b[0m \u001b[0mtype\u001b[0m\u001b[1;33m(\u001b[0m\u001b[0mdf\u001b[0m\u001b[1;33m)\u001b[0m \u001b[1;33m==\u001b[0m \u001b[0mstr\u001b[0m\u001b[1;33m:\u001b[0m\u001b[1;33m\u001b[0m\u001b[1;33m\u001b[0m\u001b[0m\n\u001b[1;32m--> 208\u001b[1;33m             \u001b[0mdf\u001b[0m \u001b[1;33m=\u001b[0m \u001b[0mself\u001b[0m\u001b[1;33m.\u001b[0m\u001b[0mdata\u001b[0m\u001b[1;33m[\u001b[0m\u001b[0mdf\u001b[0m\u001b[1;33m]\u001b[0m\u001b[1;33m\u001b[0m\u001b[1;33m\u001b[0m\u001b[0m\n\u001b[0m\u001b[0;32m    209\u001b[0m \u001b[1;33m\u001b[0m\u001b[0m\n\u001b[0;32m    210\u001b[0m         \u001b[0mshopper\u001b[0m \u001b[1;33m=\u001b[0m \u001b[0mrange\u001b[0m\u001b[1;33m(\u001b[0m\u001b[0mshopper\u001b[0m\u001b[1;33m[\u001b[0m\u001b[1;36m0\u001b[0m\u001b[1;33m]\u001b[0m\u001b[1;33m,\u001b[0m \u001b[0mshopper\u001b[0m\u001b[1;33m[\u001b[0m\u001b[1;33m-\u001b[0m\u001b[1;36m1\u001b[0m\u001b[1;33m]\u001b[0m\u001b[1;33m+\u001b[0m\u001b[1;36m1\u001b[0m\u001b[1;33m)\u001b[0m \u001b[1;32mif\u001b[0m \u001b[0mtype\u001b[0m\u001b[1;33m(\u001b[0m\u001b[0mshopper\u001b[0m\u001b[1;33m)\u001b[0m \u001b[1;33m!=\u001b[0m \u001b[0mlist\u001b[0m \u001b[1;32melse\u001b[0m \u001b[0mshopper\u001b[0m\u001b[1;33m\u001b[0m\u001b[1;33m\u001b[0m\u001b[0m\n",
      "\u001b[1;31mKeyError\u001b[0m: '/clean.parquet'"
     ]
    }
   ],
   "source": [
    "elastics.prepare(df='clean.parquet', shopper=(0,100), week=(0,10), product=(0,249), price_aggregation_fn='mode')\n"
   ]
  },
  {
   "cell_type": "code",
   "execution_count": null,
   "metadata": {},
   "outputs": [],
   "source": []
  }
 ],
 "metadata": {
  "kernelspec": {
   "display_name": "Python 3",
   "language": "python",
   "name": "python3"
  },
  "language_info": {
   "codemirror_mode": {
    "name": "ipython",
    "version": 3
   },
   "file_extension": ".py",
   "mimetype": "text/x-python",
   "name": "python",
   "nbconvert_exporter": "python",
   "pygments_lexer": "ipython3",
   "version": "3.8.8"
  }
 },
 "nbformat": 4,
 "nbformat_minor": 4
}
