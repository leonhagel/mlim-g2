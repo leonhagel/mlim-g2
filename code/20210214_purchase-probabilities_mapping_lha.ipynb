{
 "cells": [
  {
   "cell_type": "markdown",
   "id": "durable-insight",
   "metadata": {},
   "source": [
    "## **Predicting purchase probabilities**"
   ]
  },
  {
   "cell_type": "markdown",
   "id": "brief-investor",
   "metadata": {},
   "source": [
    "### **Loading the data**"
   ]
  },
  {
   "cell_type": "code",
   "execution_count": 1,
   "id": "terminal-mechanics",
   "metadata": {},
   "outputs": [],
   "source": [
    "import pandas as pd\n",
    "import numpy as np\n",
    "\n",
    "from classes import Helper, Purchase_Probabilities"
   ]
  },
  {
   "cell_type": "code",
   "execution_count": 2,
   "id": "level-first",
   "metadata": {},
   "outputs": [],
   "source": [
    "DATA_PATH = '/Users/leonhagel/Documents/coding/github/mlim-g2/data/'\n",
    "EXPORT_PATH = '/Users/leonhagel/Documents/coding/github/mlim-g2/export/'"
   ]
  },
  {
   "cell_type": "code",
   "execution_count": 3,
   "id": "occasional-charter",
   "metadata": {},
   "outputs": [],
   "source": [
    "files = {\n",
    "    'data': [\n",
    "        DATA_PATH + 'baskets.parquet',\n",
    "        DATA_PATH + 'coupon_index.parquet', \n",
    "        DATA_PATH + 'coupons.parquet', \n",
    "        DATA_PATH + 'merged.parquet'\n",
    "    ]\n",
    "}"
   ]
  },
  {
   "cell_type": "code",
   "execution_count": 4,
   "id": "fatty-practice",
   "metadata": {},
   "outputs": [],
   "source": [
    "purchase = Purchase_Probabilities()\n",
    "purchase.load(files)\n",
    "\n",
    "# reduce file sizes\n",
    "for name, df in purchase.data.items():\n",
    "    purchase.data[name] = purchase.reduce_data_size(purchase.data[name])"
   ]
  },
  {
   "cell_type": "markdown",
   "id": "inclusive-mining",
   "metadata": {},
   "source": [
    "<br>\n",
    "\n",
    "### **Mappings**"
   ]
  },
  {
   "cell_type": "markdown",
   "id": "fantastic-romantic",
   "metadata": {},
   "source": [
    "**Price map and product histories**"
   ]
  },
  {
   "cell_type": "code",
   "execution_count": 5,
   "id": "stone-process",
   "metadata": {},
   "outputs": [],
   "source": [
    "purchase.data['clean'] = purchase.clean()"
   ]
  },
  {
   "cell_type": "code",
   "execution_count": 6,
   "id": "fantastic-alert",
   "metadata": {},
   "outputs": [
    {
     "data": {
      "text/html": [
       "<div>\n",
       "<style scoped>\n",
       "    .dataframe tbody tr th:only-of-type {\n",
       "        vertical-align: middle;\n",
       "    }\n",
       "\n",
       "    .dataframe tbody tr th {\n",
       "        vertical-align: top;\n",
       "    }\n",
       "\n",
       "    .dataframe thead th {\n",
       "        text-align: right;\n",
       "    }\n",
       "</style>\n",
       "<table border=\"1\" class=\"dataframe\">\n",
       "  <thead>\n",
       "    <tr style=\"text-align: right;\">\n",
       "      <th></th>\n",
       "      <th>week</th>\n",
       "      <th>shopper</th>\n",
       "      <th>product</th>\n",
       "      <th>price</th>\n",
       "      <th>discount</th>\n",
       "    </tr>\n",
       "  </thead>\n",
       "  <tbody>\n",
       "    <tr>\n",
       "      <th>count</th>\n",
       "      <td>68841598.00</td>\n",
       "      <td>68841598.00</td>\n",
       "      <td>68841598.00</td>\n",
       "      <td>68841598.00</td>\n",
       "      <td>2708043.00</td>\n",
       "    </tr>\n",
       "    <tr>\n",
       "      <th>mean</th>\n",
       "      <td>44.50</td>\n",
       "      <td>50006.96</td>\n",
       "      <td>124.96</td>\n",
       "      <td>584.90</td>\n",
       "      <td>27.29</td>\n",
       "    </tr>\n",
       "    <tr>\n",
       "      <th>std</th>\n",
       "      <td>25.98</td>\n",
       "      <td>28881.66</td>\n",
       "      <td>69.84</td>\n",
       "      <td>97.75</td>\n",
       "      <td>9.78</td>\n",
       "    </tr>\n",
       "    <tr>\n",
       "      <th>min</th>\n",
       "      <td>0.00</td>\n",
       "      <td>0.00</td>\n",
       "      <td>0.00</td>\n",
       "      <td>234.00</td>\n",
       "      <td>10.00</td>\n",
       "    </tr>\n",
       "    <tr>\n",
       "      <th>25%</th>\n",
       "      <td>22.00</td>\n",
       "      <td>24981.00</td>\n",
       "      <td>66.00</td>\n",
       "      <td>506.00</td>\n",
       "      <td>20.00</td>\n",
       "    </tr>\n",
       "    <tr>\n",
       "      <th>50%</th>\n",
       "      <td>44.00</td>\n",
       "      <td>50019.00</td>\n",
       "      <td>123.00</td>\n",
       "      <td>579.00</td>\n",
       "      <td>30.00</td>\n",
       "    </tr>\n",
       "    <tr>\n",
       "      <th>75%</th>\n",
       "      <td>67.00</td>\n",
       "      <td>75041.00</td>\n",
       "      <td>189.00</td>\n",
       "      <td>654.00</td>\n",
       "      <td>35.00</td>\n",
       "    </tr>\n",
       "    <tr>\n",
       "      <th>max</th>\n",
       "      <td>89.00</td>\n",
       "      <td>99999.00</td>\n",
       "      <td>249.00</td>\n",
       "      <td>837.00</td>\n",
       "      <td>40.00</td>\n",
       "    </tr>\n",
       "  </tbody>\n",
       "</table>\n",
       "</div>"
      ],
      "text/plain": [
       "              week      shopper      product        price    discount\n",
       "count  68841598.00  68841598.00  68841598.00  68841598.00  2708043.00\n",
       "mean         44.50     50006.96       124.96       584.90       27.29\n",
       "std          25.98     28881.66        69.84        97.75        9.78\n",
       "min           0.00         0.00         0.00       234.00       10.00\n",
       "25%          22.00     24981.00        66.00       506.00       20.00\n",
       "50%          44.00     50019.00       123.00       579.00       30.00\n",
       "75%          67.00     75041.00       189.00       654.00       35.00\n",
       "max          89.00     99999.00       249.00       837.00       40.00"
      ]
     },
     "execution_count": 6,
     "metadata": {},
     "output_type": "execute_result"
    }
   ],
   "source": [
    "df_prices = purchase.data['merged'].copy()\n",
    "df_prices = df_prices.loc[df_prices['price'].notna(), :]\n",
    "df_prices.describe().round(2)"
   ]
  },
  {
   "cell_type": "code",
   "execution_count": 7,
   "id": "compact-reply",
   "metadata": {},
   "outputs": [
    {
     "data": {
      "text/html": [
       "<div>\n",
       "<style scoped>\n",
       "    .dataframe tbody tr th:only-of-type {\n",
       "        vertical-align: middle;\n",
       "    }\n",
       "\n",
       "    .dataframe tbody tr th {\n",
       "        vertical-align: top;\n",
       "    }\n",
       "\n",
       "    .dataframe thead th {\n",
       "        text-align: right;\n",
       "    }\n",
       "</style>\n",
       "<table border=\"1\" class=\"dataframe\">\n",
       "  <thead>\n",
       "    <tr style=\"text-align: right;\">\n",
       "      <th></th>\n",
       "      <th>week</th>\n",
       "      <th>shopper</th>\n",
       "      <th>product</th>\n",
       "      <th>price</th>\n",
       "      <th>discount</th>\n",
       "      <th>purchased</th>\n",
       "    </tr>\n",
       "  </thead>\n",
       "  <tbody>\n",
       "    <tr>\n",
       "      <th>count</th>\n",
       "      <td>1378720.00</td>\n",
       "      <td>1378720.00</td>\n",
       "      <td>1378720.00</td>\n",
       "      <td>1378720.00</td>\n",
       "      <td>1378720.00</td>\n",
       "      <td>1378720.0</td>\n",
       "    </tr>\n",
       "    <tr>\n",
       "      <th>mean</th>\n",
       "      <td>44.48</td>\n",
       "      <td>997.21</td>\n",
       "      <td>125.07</td>\n",
       "      <td>590.73</td>\n",
       "      <td>0.01</td>\n",
       "      <td>1.0</td>\n",
       "    </tr>\n",
       "    <tr>\n",
       "      <th>std</th>\n",
       "      <td>25.98</td>\n",
       "      <td>576.25</td>\n",
       "      <td>69.70</td>\n",
       "      <td>92.70</td>\n",
       "      <td>0.06</td>\n",
       "      <td>0.0</td>\n",
       "    </tr>\n",
       "    <tr>\n",
       "      <th>min</th>\n",
       "      <td>0.00</td>\n",
       "      <td>0.00</td>\n",
       "      <td>0.00</td>\n",
       "      <td>389.23</td>\n",
       "      <td>0.00</td>\n",
       "      <td>1.0</td>\n",
       "    </tr>\n",
       "    <tr>\n",
       "      <th>25%</th>\n",
       "      <td>22.00</td>\n",
       "      <td>499.00</td>\n",
       "      <td>66.00</td>\n",
       "      <td>510.00</td>\n",
       "      <td>0.00</td>\n",
       "      <td>1.0</td>\n",
       "    </tr>\n",
       "    <tr>\n",
       "      <th>50%</th>\n",
       "      <td>44.00</td>\n",
       "      <td>993.00</td>\n",
       "      <td>123.00</td>\n",
       "      <td>582.00</td>\n",
       "      <td>0.00</td>\n",
       "      <td>1.0</td>\n",
       "    </tr>\n",
       "    <tr>\n",
       "      <th>75%</th>\n",
       "      <td>67.00</td>\n",
       "      <td>1496.00</td>\n",
       "      <td>189.00</td>\n",
       "      <td>657.00</td>\n",
       "      <td>0.00</td>\n",
       "      <td>1.0</td>\n",
       "    </tr>\n",
       "    <tr>\n",
       "      <th>max</th>\n",
       "      <td>89.00</td>\n",
       "      <td>1999.00</td>\n",
       "      <td>249.00</td>\n",
       "      <td>837.65</td>\n",
       "      <td>0.40</td>\n",
       "      <td>1.0</td>\n",
       "    </tr>\n",
       "  </tbody>\n",
       "</table>\n",
       "</div>"
      ],
      "text/plain": [
       "             week     shopper     product       price    discount  purchased\n",
       "count  1378720.00  1378720.00  1378720.00  1378720.00  1378720.00  1378720.0\n",
       "mean        44.48      997.21      125.07      590.73        0.01        1.0\n",
       "std         25.98      576.25       69.70       92.70        0.06        0.0\n",
       "min          0.00        0.00        0.00      389.23        0.00        1.0\n",
       "25%         22.00      499.00       66.00      510.00        0.00        1.0\n",
       "50%         44.00      993.00      123.00      582.00        0.00        1.0\n",
       "75%         67.00     1496.00      189.00      657.00        0.00        1.0\n",
       "max         89.00     1999.00      249.00      837.65        0.40        1.0"
      ]
     },
     "execution_count": 7,
     "metadata": {},
     "output_type": "execute_result"
    }
   ],
   "source": [
    "df_purchased = purchase.data['clean'].copy()\n",
    "df_purchased = df_purchased.loc[df_purchased['purchased'] == 1, :]\n",
    "df_purchased.describe().round(2)"
   ]
  },
  {
   "cell_type": "code",
   "execution_count": null,
   "id": "delayed-spectacular",
   "metadata": {},
   "outputs": [
    {
     "name": "stderr",
     "output_type": "stream",
     "text": [
      "100%|██████████| 1378720/1378720 [00:42<00:00, 32370.43it/s]\n",
      " 41%|████      | 28007242/68841598 [14:53<23:12, 29317.89it/s]  "
     ]
    }
   ],
   "source": [
    "map_config = {\n",
    "    'product_histories': {'df': df_purchased, 'row_name': 'shopper', 'column_name': 'product', 'value_name': 'week', 'initial_array': [-np.inf]},\n",
    "    'prices': {'df': df_prices, 'row_name': 'week', 'column_name': 'product', 'value_name': 'price', 'initial_array': []}\n",
    "    #'prices': {'df': df_purchased, 'row_name': 'week', 'column_name': 'product', 'value_name': 'price', 'initial_array': []}\n",
    "}\n",
    "\n",
    "purchase.get_mappings(map_config)"
   ]
  },
  {
   "cell_type": "code",
   "execution_count": null,
   "id": "bigger-conversion",
   "metadata": {},
   "outputs": [],
   "source": [
    "purchase.mappings['product_histories'].head()"
   ]
  },
  {
   "cell_type": "code",
   "execution_count": null,
   "id": "elect-louisville",
   "metadata": {},
   "outputs": [],
   "source": [
    "purchase.mappings['prices'].head()"
   ]
  },
  {
   "cell_type": "code",
   "execution_count": null,
   "id": "humanitarian-steering",
   "metadata": {},
   "outputs": [],
   "source": [
    "purchase.dump(EXPORT_PATH, which='mappings')"
   ]
  }
 ],
 "metadata": {
  "kernelspec": {
   "display_name": "mlim-g2",
   "language": "python",
   "name": "mlim-g2"
  },
  "language_info": {
   "codemirror_mode": {
    "name": "ipython",
    "version": 3
   },
   "file_extension": ".py",
   "mimetype": "text/x-python",
   "name": "python",
   "nbconvert_exporter": "python",
   "pygments_lexer": "ipython3",
   "version": "3.8.3"
  }
 },
 "nbformat": 4,
 "nbformat_minor": 5
}
