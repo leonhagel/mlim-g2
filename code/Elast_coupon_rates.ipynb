{
 "cells": [
  {
   "cell_type": "code",
   "execution_count": 46,
   "metadata": {},
   "outputs": [],
   "source": [
    "import sys\n",
    "sys.path.append('./lib/python3.8/site-packages')"
   ]
  },
  {
   "cell_type": "markdown",
   "metadata": {},
   "source": [
    "# data prep"
   ]
  },
  {
   "cell_type": "code",
   "execution_count": 1,
   "metadata": {},
   "outputs": [],
   "source": [
    "import gensim\n",
    "import aquirdturtle_collapsible_headings\n",
    "import pandas as pd\n",
    "import numpy as np\n",
    "import collections\n",
    "import itertools\n",
    "import matplotlib.pyplot as plt\n",
    "import numpy as np\n",
    "import sklearn.metrics\n",
    "import sklearn.model_selection\n",
    "import torch\n",
    "import torch.nn\n",
    "import torch.nn.functional\n",
    "import torch.optim\n",
    "import torch.utils.data\n",
    "import collections\n",
    "from collections import Counter"
   ]
  },
  {
   "cell_type": "code",
   "execution_count": 83,
   "metadata": {},
   "outputs": [],
   "source": [
    "coupons = pd.read_parquet(r\"C:\\Users\\Benedikt\\Desktop\\Mein Ordner\\WI-INFO\\Semester 1\\ML for Marketing\\Final\\coupons.parquet\", engine='pyarrow')\n",
    "coupon_index = pd.read_parquet(r\"C:\\Users\\Benedikt\\Desktop\\Mein Ordner\\WI-INFO\\Semester 1\\ML for Marketing\\Final\\coupon_index.parquet\", engine='pyarrow')\n",
    "basket = pd.read_parquet(r\"C:\\Users\\Benedikt\\Desktop\\Mein Ordner\\WI-INFO\\Semester 1\\ML for Marketing\\Final\\baskets.parquet\", engine='pyarrow')"
   ]
  },
  {
   "cell_type": "code",
   "execution_count": 84,
   "metadata": {},
   "outputs": [],
   "source": [
    "basket = basket[basket['shopper'] < 2000]\n",
    "basket = basket.merge(coupons, how = \"outer\")\n",
    "basket = basket[basket['shopper'] < 2000]\n",
    "basket['discount'] = basket['discount'].fillna(0)\n",
    "basket['price'] = basket['price'].fillna(0)"
   ]
  },
  {
   "cell_type": "markdown",
   "metadata": {},
   "source": [
    "# Price Elastics"
   ]
  },
  {
   "attachments": {
    "f1e7e83e-173c-49f6-beca-e686dea10ec7.png": {
     "image/png": "[encoded data removed]"
    }
   },
   "cell_type": "markdown",
   "metadata": {},
   "source": [
    "![grafik.png](attachment:f1e7e83e-173c-49f6-beca-e686dea10ec7.png)"
   ]
  },
  {
   "cell_type": "code",
   "execution_count": 153,
   "metadata": {},
   "outputs": [],
   "source": [
    "# median is same as in the given paper\n",
    "def calc_elastics():\n",
    "    elast = []\n",
    "    total_basket_count = len(basket.groupby(['week', 'shopper']))\n",
    "\n",
    "    for i in range(250):\n",
    "        reg_price = basket[basket['product'] == i]\n",
    "        reg_price_buy = len(reg_price[reg_price['discount'] == 0])\n",
    "        all_discounts_offers = len(reg_price[reg_price['discount'] > 0])\n",
    "        reg_price_offer = total_basket_count - all_discounts_offers\n",
    "        reg_price_buy_rate = reg_price_buy / reg_price_offer\n",
    "        discount_30 = reg_price[reg_price['discount'] == 30]\n",
    "        discount_30_offer = len(discount_30)\n",
    "        discount_30_buy = discount_30['price'].notnull().sum()\n",
    "        discount_buy_rate = discount_30_buy / discount_30_offer\n",
    "        elast.append((discount_buy_rate - reg_price_buy_rate) / (0.3 * reg_price_buy_rate))\n",
    "    \n",
    "    price_elastics = pd.DataFrame(elast)\n",
    "    return price_elastics\n",
    "\n",
    "\n",
    "def calc_week_elastics(week, duration):\n",
    "    elast = []\n",
    "\n",
    "    if week >= duration:\n",
    "        basket_temp = basket[(week >= basket['week']) & (basket['week'] >= week - duration)]\n",
    "        total_basket_count = len(basket_temp.groupby(['week', 'shopper']))\n",
    "    else: raise ValueError('week[0] must be bigger than duration[1].')\n",
    "\n",
    "    for i in range(250):\n",
    "        reg_price = basket_temp[basket_temp['product'] == i]\n",
    "        reg_price_buy = len(reg_price[reg_price['discount'] == 0])\n",
    "        all_discounts_offers = len(reg_price[reg_price['discount'] > 0])\n",
    "        reg_price_offer = total_basket_count - all_discounts_offers\n",
    "        reg_price_buy_rate = reg_price_buy / reg_price_offer\n",
    "        discount_30 = reg_price[reg_price['discount'] == 30]\n",
    "        discount_30_offer = len(discount_30)\n",
    "        discount_30_buy = discount_30['price'].notnull().sum()\n",
    "        discount_30_buy_rate = discount_30_buy / discount_30_offer\n",
    "        elast.append((discount_30_buy_rate - reg_price_buy_rate) / (0.3 * reg_price_buy_rate))\n",
    "    \n",
    "    week_price_elastics = pd.DataFrame(elast)\n",
    "    return week_price_elastics"
   ]
  },
  {
   "cell_type": "markdown",
   "metadata": {},
   "source": [
    "# coupon redemption rates"
   ]
  },
  {
   "cell_type": "code",
   "execution_count": 90,
   "metadata": {},
   "outputs": [],
   "source": [
    "def calc_coupon_rates(basket, week, duration):\n",
    "    if week >= duration:\n",
    "        basket_temp = basket[(week >= basket['week']) & (basket['week'] >= week - duration)]\n",
    "    else: raise ValueError('week[0] must be bigger than duration[1].')\n",
    "\n",
    "    # coupon redemption likelihood by product\n",
    "    coupons = basket_temp[basket_temp['discount'] > 0].copy()\n",
    "    coupons.loc[(coupons['price'] != 0), 'redeemed']  = 1\n",
    "    coupons['redeemed'] = coupons['redeemed'].fillna(0)\n",
    "\n",
    "    redemption_rate = coupons.groupby(['product'])['redeemed'].mean()\n",
    "    basket_temp = basket_temp.merge(redemption_rate, how = 'left', on = 'product')\n",
    "    basket_temp = basket_temp.rename(columns = {'redeemed' : 'product_redemption_likelihood'})\n",
    "\n",
    "\n",
    "    # coupon redemption likelihood by costumer & product\n",
    "    costumer_redemption_rate = coupons.groupby(['shopper', 'product'])['redeemed'].mean()\n",
    "    basket_temp = basket_temp.merge(costumer_redemption_rate, how = 'left', on = ['shopper', 'product'])\n",
    "    basket_temp = basket_temp.rename(columns = {'redeemed' : 'shopper_product_discount_usage'})\n",
    "\n",
    "\n",
    "    # only buy because of discount?\n",
    "    buy_all = basket_temp.groupby(['shopper', 'product']).size()\n",
    "    discount = coupons.groupby(['shopper', 'product']).size()\n",
    "    discount_buy = discount / buy_all\n",
    "    discount_buy = discount_buy.fillna(0)\n",
    "    discount_buy = discount_buy.rename('discount_buy')\n",
    "    basket_temp = basket_temp.merge(discount_buy, how = 'left', on = ['shopper', 'product'])\n",
    "    \n",
    "    return basket_temp"
   ]
  }
 ],
 "metadata": {
  "kernelspec": {
   "display_name": "Python 3",
   "language": "python",
   "name": "python3"
  },
  "language_info": {
   "codemirror_mode": {
    "name": "ipython",
    "version": 3
   },
   "file_extension": ".py",
   "mimetype": "text/x-python",
   "name": "python",
   "nbconvert_exporter": "python",
   "pygments_lexer": "ipython3",
   "version": "3.8.5"
  }
 },
 "nbformat": 4,
 "nbformat_minor": 4
}
